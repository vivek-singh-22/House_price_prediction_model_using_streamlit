{
  "cells": [
    {
      "cell_type": "code",
      "execution_count": 176,
      "metadata": {
        "id": "dgoC_qwzAKx1"
      },
      "outputs": [],
      "source": [
        "import pandas as pd\n",
        "import numpy as np\n"
      ]
    },
    {
      "cell_type": "code",
      "execution_count": 177,
      "metadata": {
        "id": "Lh-08AnHArQp"
      },
      "outputs": [],
      "source": [
        "df = pd.read_csv('AmesHousing.csv')\n"
      ]
    },
    {
      "cell_type": "code",
      "execution_count": 178,
      "metadata": {
        "colab": {
          "base_uri": "https://localhost:8080/",
          "height": 461
        },
        "id": "DtN-esuNFRf_",
        "outputId": "44b2130f-3089-41cc-bcce-a4a0658e5a91"
      },
      "outputs": [
        {
          "data": {
            "text/html": [
              "<div>\n",
              "<style scoped>\n",
              "    .dataframe tbody tr th:only-of-type {\n",
              "        vertical-align: middle;\n",
              "    }\n",
              "\n",
              "    .dataframe tbody tr th {\n",
              "        vertical-align: top;\n",
              "    }\n",
              "\n",
              "    .dataframe thead th {\n",
              "        text-align: right;\n",
              "    }\n",
              "</style>\n",
              "<table border=\"1\" class=\"dataframe\">\n",
              "  <thead>\n",
              "    <tr style=\"text-align: right;\">\n",
              "      <th></th>\n",
              "      <th>Order</th>\n",
              "      <th>PID</th>\n",
              "      <th>MS SubClass</th>\n",
              "      <th>MS Zoning</th>\n",
              "      <th>Lot Frontage</th>\n",
              "      <th>Lot Area</th>\n",
              "      <th>Street</th>\n",
              "      <th>Alley</th>\n",
              "      <th>Lot Shape</th>\n",
              "      <th>Land Contour</th>\n",
              "      <th>...</th>\n",
              "      <th>Pool Area</th>\n",
              "      <th>Pool QC</th>\n",
              "      <th>Fence</th>\n",
              "      <th>Misc Feature</th>\n",
              "      <th>Misc Val</th>\n",
              "      <th>Mo Sold</th>\n",
              "      <th>Yr Sold</th>\n",
              "      <th>Sale Type</th>\n",
              "      <th>Sale Condition</th>\n",
              "      <th>SalePrice</th>\n",
              "    </tr>\n",
              "  </thead>\n",
              "  <tbody>\n",
              "    <tr>\n",
              "      <th>0</th>\n",
              "      <td>1</td>\n",
              "      <td>526301100</td>\n",
              "      <td>20</td>\n",
              "      <td>RL</td>\n",
              "      <td>141.0</td>\n",
              "      <td>31770</td>\n",
              "      <td>Pave</td>\n",
              "      <td>NaN</td>\n",
              "      <td>IR1</td>\n",
              "      <td>Lvl</td>\n",
              "      <td>...</td>\n",
              "      <td>0</td>\n",
              "      <td>NaN</td>\n",
              "      <td>NaN</td>\n",
              "      <td>NaN</td>\n",
              "      <td>0</td>\n",
              "      <td>5</td>\n",
              "      <td>2010</td>\n",
              "      <td>WD</td>\n",
              "      <td>Normal</td>\n",
              "      <td>215000</td>\n",
              "    </tr>\n",
              "    <tr>\n",
              "      <th>1</th>\n",
              "      <td>2</td>\n",
              "      <td>526350040</td>\n",
              "      <td>20</td>\n",
              "      <td>RH</td>\n",
              "      <td>80.0</td>\n",
              "      <td>11622</td>\n",
              "      <td>Pave</td>\n",
              "      <td>NaN</td>\n",
              "      <td>Reg</td>\n",
              "      <td>Lvl</td>\n",
              "      <td>...</td>\n",
              "      <td>0</td>\n",
              "      <td>NaN</td>\n",
              "      <td>MnPrv</td>\n",
              "      <td>NaN</td>\n",
              "      <td>0</td>\n",
              "      <td>6</td>\n",
              "      <td>2010</td>\n",
              "      <td>WD</td>\n",
              "      <td>Normal</td>\n",
              "      <td>105000</td>\n",
              "    </tr>\n",
              "    <tr>\n",
              "      <th>2</th>\n",
              "      <td>3</td>\n",
              "      <td>526351010</td>\n",
              "      <td>20</td>\n",
              "      <td>RL</td>\n",
              "      <td>81.0</td>\n",
              "      <td>14267</td>\n",
              "      <td>Pave</td>\n",
              "      <td>NaN</td>\n",
              "      <td>IR1</td>\n",
              "      <td>Lvl</td>\n",
              "      <td>...</td>\n",
              "      <td>0</td>\n",
              "      <td>NaN</td>\n",
              "      <td>NaN</td>\n",
              "      <td>Gar2</td>\n",
              "      <td>12500</td>\n",
              "      <td>6</td>\n",
              "      <td>2010</td>\n",
              "      <td>WD</td>\n",
              "      <td>Normal</td>\n",
              "      <td>172000</td>\n",
              "    </tr>\n",
              "    <tr>\n",
              "      <th>3</th>\n",
              "      <td>4</td>\n",
              "      <td>526353030</td>\n",
              "      <td>20</td>\n",
              "      <td>RL</td>\n",
              "      <td>93.0</td>\n",
              "      <td>11160</td>\n",
              "      <td>Pave</td>\n",
              "      <td>NaN</td>\n",
              "      <td>Reg</td>\n",
              "      <td>Lvl</td>\n",
              "      <td>...</td>\n",
              "      <td>0</td>\n",
              "      <td>NaN</td>\n",
              "      <td>NaN</td>\n",
              "      <td>NaN</td>\n",
              "      <td>0</td>\n",
              "      <td>4</td>\n",
              "      <td>2010</td>\n",
              "      <td>WD</td>\n",
              "      <td>Normal</td>\n",
              "      <td>244000</td>\n",
              "    </tr>\n",
              "    <tr>\n",
              "      <th>4</th>\n",
              "      <td>5</td>\n",
              "      <td>527105010</td>\n",
              "      <td>60</td>\n",
              "      <td>RL</td>\n",
              "      <td>74.0</td>\n",
              "      <td>13830</td>\n",
              "      <td>Pave</td>\n",
              "      <td>NaN</td>\n",
              "      <td>IR1</td>\n",
              "      <td>Lvl</td>\n",
              "      <td>...</td>\n",
              "      <td>0</td>\n",
              "      <td>NaN</td>\n",
              "      <td>MnPrv</td>\n",
              "      <td>NaN</td>\n",
              "      <td>0</td>\n",
              "      <td>3</td>\n",
              "      <td>2010</td>\n",
              "      <td>WD</td>\n",
              "      <td>Normal</td>\n",
              "      <td>189900</td>\n",
              "    </tr>\n",
              "    <tr>\n",
              "      <th>...</th>\n",
              "      <td>...</td>\n",
              "      <td>...</td>\n",
              "      <td>...</td>\n",
              "      <td>...</td>\n",
              "      <td>...</td>\n",
              "      <td>...</td>\n",
              "      <td>...</td>\n",
              "      <td>...</td>\n",
              "      <td>...</td>\n",
              "      <td>...</td>\n",
              "      <td>...</td>\n",
              "      <td>...</td>\n",
              "      <td>...</td>\n",
              "      <td>...</td>\n",
              "      <td>...</td>\n",
              "      <td>...</td>\n",
              "      <td>...</td>\n",
              "      <td>...</td>\n",
              "      <td>...</td>\n",
              "      <td>...</td>\n",
              "      <td>...</td>\n",
              "    </tr>\n",
              "    <tr>\n",
              "      <th>2925</th>\n",
              "      <td>2926</td>\n",
              "      <td>923275080</td>\n",
              "      <td>80</td>\n",
              "      <td>RL</td>\n",
              "      <td>37.0</td>\n",
              "      <td>7937</td>\n",
              "      <td>Pave</td>\n",
              "      <td>NaN</td>\n",
              "      <td>IR1</td>\n",
              "      <td>Lvl</td>\n",
              "      <td>...</td>\n",
              "      <td>0</td>\n",
              "      <td>NaN</td>\n",
              "      <td>GdPrv</td>\n",
              "      <td>NaN</td>\n",
              "      <td>0</td>\n",
              "      <td>3</td>\n",
              "      <td>2006</td>\n",
              "      <td>WD</td>\n",
              "      <td>Normal</td>\n",
              "      <td>142500</td>\n",
              "    </tr>\n",
              "    <tr>\n",
              "      <th>2926</th>\n",
              "      <td>2927</td>\n",
              "      <td>923276100</td>\n",
              "      <td>20</td>\n",
              "      <td>RL</td>\n",
              "      <td>NaN</td>\n",
              "      <td>8885</td>\n",
              "      <td>Pave</td>\n",
              "      <td>NaN</td>\n",
              "      <td>IR1</td>\n",
              "      <td>Low</td>\n",
              "      <td>...</td>\n",
              "      <td>0</td>\n",
              "      <td>NaN</td>\n",
              "      <td>MnPrv</td>\n",
              "      <td>NaN</td>\n",
              "      <td>0</td>\n",
              "      <td>6</td>\n",
              "      <td>2006</td>\n",
              "      <td>WD</td>\n",
              "      <td>Normal</td>\n",
              "      <td>131000</td>\n",
              "    </tr>\n",
              "    <tr>\n",
              "      <th>2927</th>\n",
              "      <td>2928</td>\n",
              "      <td>923400125</td>\n",
              "      <td>85</td>\n",
              "      <td>RL</td>\n",
              "      <td>62.0</td>\n",
              "      <td>10441</td>\n",
              "      <td>Pave</td>\n",
              "      <td>NaN</td>\n",
              "      <td>Reg</td>\n",
              "      <td>Lvl</td>\n",
              "      <td>...</td>\n",
              "      <td>0</td>\n",
              "      <td>NaN</td>\n",
              "      <td>MnPrv</td>\n",
              "      <td>Shed</td>\n",
              "      <td>700</td>\n",
              "      <td>7</td>\n",
              "      <td>2006</td>\n",
              "      <td>WD</td>\n",
              "      <td>Normal</td>\n",
              "      <td>132000</td>\n",
              "    </tr>\n",
              "    <tr>\n",
              "      <th>2928</th>\n",
              "      <td>2929</td>\n",
              "      <td>924100070</td>\n",
              "      <td>20</td>\n",
              "      <td>RL</td>\n",
              "      <td>77.0</td>\n",
              "      <td>10010</td>\n",
              "      <td>Pave</td>\n",
              "      <td>NaN</td>\n",
              "      <td>Reg</td>\n",
              "      <td>Lvl</td>\n",
              "      <td>...</td>\n",
              "      <td>0</td>\n",
              "      <td>NaN</td>\n",
              "      <td>NaN</td>\n",
              "      <td>NaN</td>\n",
              "      <td>0</td>\n",
              "      <td>4</td>\n",
              "      <td>2006</td>\n",
              "      <td>WD</td>\n",
              "      <td>Normal</td>\n",
              "      <td>170000</td>\n",
              "    </tr>\n",
              "    <tr>\n",
              "      <th>2929</th>\n",
              "      <td>2930</td>\n",
              "      <td>924151050</td>\n",
              "      <td>60</td>\n",
              "      <td>RL</td>\n",
              "      <td>74.0</td>\n",
              "      <td>9627</td>\n",
              "      <td>Pave</td>\n",
              "      <td>NaN</td>\n",
              "      <td>Reg</td>\n",
              "      <td>Lvl</td>\n",
              "      <td>...</td>\n",
              "      <td>0</td>\n",
              "      <td>NaN</td>\n",
              "      <td>NaN</td>\n",
              "      <td>NaN</td>\n",
              "      <td>0</td>\n",
              "      <td>11</td>\n",
              "      <td>2006</td>\n",
              "      <td>WD</td>\n",
              "      <td>Normal</td>\n",
              "      <td>188000</td>\n",
              "    </tr>\n",
              "  </tbody>\n",
              "</table>\n",
              "<p>2930 rows × 82 columns</p>\n",
              "</div>"
            ],
            "text/plain": [
              "      Order        PID  MS SubClass MS Zoning  Lot Frontage  Lot Area Street  \\\n",
              "0         1  526301100           20        RL         141.0     31770   Pave   \n",
              "1         2  526350040           20        RH          80.0     11622   Pave   \n",
              "2         3  526351010           20        RL          81.0     14267   Pave   \n",
              "3         4  526353030           20        RL          93.0     11160   Pave   \n",
              "4         5  527105010           60        RL          74.0     13830   Pave   \n",
              "...     ...        ...          ...       ...           ...       ...    ...   \n",
              "2925   2926  923275080           80        RL          37.0      7937   Pave   \n",
              "2926   2927  923276100           20        RL           NaN      8885   Pave   \n",
              "2927   2928  923400125           85        RL          62.0     10441   Pave   \n",
              "2928   2929  924100070           20        RL          77.0     10010   Pave   \n",
              "2929   2930  924151050           60        RL          74.0      9627   Pave   \n",
              "\n",
              "     Alley Lot Shape Land Contour  ... Pool Area Pool QC  Fence Misc Feature  \\\n",
              "0      NaN       IR1          Lvl  ...         0     NaN    NaN          NaN   \n",
              "1      NaN       Reg          Lvl  ...         0     NaN  MnPrv          NaN   \n",
              "2      NaN       IR1          Lvl  ...         0     NaN    NaN         Gar2   \n",
              "3      NaN       Reg          Lvl  ...         0     NaN    NaN          NaN   \n",
              "4      NaN       IR1          Lvl  ...         0     NaN  MnPrv          NaN   \n",
              "...    ...       ...          ...  ...       ...     ...    ...          ...   \n",
              "2925   NaN       IR1          Lvl  ...         0     NaN  GdPrv          NaN   \n",
              "2926   NaN       IR1          Low  ...         0     NaN  MnPrv          NaN   \n",
              "2927   NaN       Reg          Lvl  ...         0     NaN  MnPrv         Shed   \n",
              "2928   NaN       Reg          Lvl  ...         0     NaN    NaN          NaN   \n",
              "2929   NaN       Reg          Lvl  ...         0     NaN    NaN          NaN   \n",
              "\n",
              "     Misc Val Mo Sold Yr Sold Sale Type  Sale Condition  SalePrice  \n",
              "0           0       5    2010       WD           Normal     215000  \n",
              "1           0       6    2010       WD           Normal     105000  \n",
              "2       12500       6    2010       WD           Normal     172000  \n",
              "3           0       4    2010       WD           Normal     244000  \n",
              "4           0       3    2010       WD           Normal     189900  \n",
              "...       ...     ...     ...       ...             ...        ...  \n",
              "2925        0       3    2006       WD           Normal     142500  \n",
              "2926        0       6    2006       WD           Normal     131000  \n",
              "2927      700       7    2006       WD           Normal     132000  \n",
              "2928        0       4    2006       WD           Normal     170000  \n",
              "2929        0      11    2006       WD           Normal     188000  \n",
              "\n",
              "[2930 rows x 82 columns]"
            ]
          },
          "execution_count": 178,
          "metadata": {},
          "output_type": "execute_result"
        }
      ],
      "source": [
        "df"
      ]
    },
    {
      "cell_type": "code",
      "execution_count": 179,
      "metadata": {
        "colab": {
          "base_uri": "https://localhost:8080/"
        },
        "id": "mbXMNJsxA2AV",
        "outputId": "59802202-4386-4835-f5b1-5f8251504682"
      },
      "outputs": [
        {
          "data": {
            "text/plain": [
              "(2930, 82)"
            ]
          },
          "execution_count": 179,
          "metadata": {},
          "output_type": "execute_result"
        }
      ],
      "source": [
        "df.shape"
      ]
    },
    {
      "cell_type": "code",
      "execution_count": 180,
      "metadata": {
        "colab": {
          "base_uri": "https://localhost:8080/"
        },
        "id": "rw3fwY9pA5HE",
        "outputId": "6951eb49-1cda-487c-c949-47f6b452e346"
      },
      "outputs": [
        {
          "data": {
            "text/plain": [
              "np.int64(15749)"
            ]
          },
          "execution_count": 180,
          "metadata": {},
          "output_type": "execute_result"
        }
      ],
      "source": [
        "df.isnull().sum().sum()"
      ]
    },
    {
      "cell_type": "code",
      "execution_count": 181,
      "metadata": {
        "colab": {
          "base_uri": "https://localhost:8080/"
        },
        "id": "kM4QNoPTCt_b",
        "outputId": "99cc47ce-62d9-4c51-e9de-3baedd192c4b"
      },
      "outputs": [
        {
          "data": {
            "text/plain": [
              "Index(['Order', 'PID', 'MS SubClass', 'MS Zoning', 'Lot Frontage', 'Lot Area',\n",
              "       'Street', 'Alley', 'Lot Shape', 'Land Contour', 'Utilities',\n",
              "       'Lot Config', 'Land Slope', 'Neighborhood', 'Condition 1',\n",
              "       'Condition 2', 'Bldg Type', 'House Style', 'Overall Qual',\n",
              "       'Overall Cond', 'Year Built', 'Year Remod/Add', 'Roof Style',\n",
              "       'Roof Matl', 'Exterior 1st', 'Exterior 2nd', 'Mas Vnr Type',\n",
              "       'Mas Vnr Area', 'Exter Qual', 'Exter Cond', 'Foundation', 'Bsmt Qual',\n",
              "       'Bsmt Cond', 'Bsmt Exposure', 'BsmtFin Type 1', 'BsmtFin SF 1',\n",
              "       'BsmtFin Type 2', 'BsmtFin SF 2', 'Bsmt Unf SF', 'Total Bsmt SF',\n",
              "       'Heating', 'Heating QC', 'Central Air', 'Electrical', '1st Flr SF',\n",
              "       '2nd Flr SF', 'Low Qual Fin SF', 'Gr Liv Area', 'Bsmt Full Bath',\n",
              "       'Bsmt Half Bath', 'Full Bath', 'Half Bath', 'Bedroom AbvGr',\n",
              "       'Kitchen AbvGr', 'Kitchen Qual', 'TotRms AbvGrd', 'Functional',\n",
              "       'Fireplaces', 'Fireplace Qu', 'Garage Type', 'Garage Yr Blt',\n",
              "       'Garage Finish', 'Garage Cars', 'Garage Area', 'Garage Qual',\n",
              "       'Garage Cond', 'Paved Drive', 'Wood Deck SF', 'Open Porch SF',\n",
              "       'Enclosed Porch', '3Ssn Porch', 'Screen Porch', 'Pool Area', 'Pool QC',\n",
              "       'Fence', 'Misc Feature', 'Misc Val', 'Mo Sold', 'Yr Sold', 'Sale Type',\n",
              "       'Sale Condition', 'SalePrice'],\n",
              "      dtype='object')"
            ]
          },
          "execution_count": 181,
          "metadata": {},
          "output_type": "execute_result"
        }
      ],
      "source": [
        "df.columns"
      ]
    },
    {
      "cell_type": "code",
      "execution_count": 182,
      "metadata": {
        "colab": {
          "base_uri": "https://localhost:8080/"
        },
        "id": "7SMO5o2bJQ72",
        "outputId": "88ab6556-3f5f-4e07-8e4c-cb67e7863f67"
      },
      "outputs": [
        {
          "name": "stdout",
          "output_type": "stream",
          "text": [
            "<class 'pandas.core.frame.DataFrame'>\n",
            "RangeIndex: 2930 entries, 0 to 2929\n",
            "Data columns (total 82 columns):\n",
            " #   Column           Non-Null Count  Dtype  \n",
            "---  ------           --------------  -----  \n",
            " 0   Order            2930 non-null   int64  \n",
            " 1   PID              2930 non-null   int64  \n",
            " 2   MS SubClass      2930 non-null   int64  \n",
            " 3   MS Zoning        2930 non-null   object \n",
            " 4   Lot Frontage     2440 non-null   float64\n",
            " 5   Lot Area         2930 non-null   int64  \n",
            " 6   Street           2930 non-null   object \n",
            " 7   Alley            198 non-null    object \n",
            " 8   Lot Shape        2930 non-null   object \n",
            " 9   Land Contour     2930 non-null   object \n",
            " 10  Utilities        2930 non-null   object \n",
            " 11  Lot Config       2930 non-null   object \n",
            " 12  Land Slope       2930 non-null   object \n",
            " 13  Neighborhood     2930 non-null   object \n",
            " 14  Condition 1      2930 non-null   object \n",
            " 15  Condition 2      2930 non-null   object \n",
            " 16  Bldg Type        2930 non-null   object \n",
            " 17  House Style      2930 non-null   object \n",
            " 18  Overall Qual     2930 non-null   int64  \n",
            " 19  Overall Cond     2930 non-null   int64  \n",
            " 20  Year Built       2930 non-null   int64  \n",
            " 21  Year Remod/Add   2930 non-null   int64  \n",
            " 22  Roof Style       2930 non-null   object \n",
            " 23  Roof Matl        2930 non-null   object \n",
            " 24  Exterior 1st     2930 non-null   object \n",
            " 25  Exterior 2nd     2930 non-null   object \n",
            " 26  Mas Vnr Type     1155 non-null   object \n",
            " 27  Mas Vnr Area     2907 non-null   float64\n",
            " 28  Exter Qual       2930 non-null   object \n",
            " 29  Exter Cond       2930 non-null   object \n",
            " 30  Foundation       2930 non-null   object \n",
            " 31  Bsmt Qual        2850 non-null   object \n",
            " 32  Bsmt Cond        2850 non-null   object \n",
            " 33  Bsmt Exposure    2847 non-null   object \n",
            " 34  BsmtFin Type 1   2850 non-null   object \n",
            " 35  BsmtFin SF 1     2929 non-null   float64\n",
            " 36  BsmtFin Type 2   2849 non-null   object \n",
            " 37  BsmtFin SF 2     2929 non-null   float64\n",
            " 38  Bsmt Unf SF      2929 non-null   float64\n",
            " 39  Total Bsmt SF    2929 non-null   float64\n",
            " 40  Heating          2930 non-null   object \n",
            " 41  Heating QC       2930 non-null   object \n",
            " 42  Central Air      2930 non-null   object \n",
            " 43  Electrical       2929 non-null   object \n",
            " 44  1st Flr SF       2930 non-null   int64  \n",
            " 45  2nd Flr SF       2930 non-null   int64  \n",
            " 46  Low Qual Fin SF  2930 non-null   int64  \n",
            " 47  Gr Liv Area      2930 non-null   int64  \n",
            " 48  Bsmt Full Bath   2928 non-null   float64\n",
            " 49  Bsmt Half Bath   2928 non-null   float64\n",
            " 50  Full Bath        2930 non-null   int64  \n",
            " 51  Half Bath        2930 non-null   int64  \n",
            " 52  Bedroom AbvGr    2930 non-null   int64  \n",
            " 53  Kitchen AbvGr    2930 non-null   int64  \n",
            " 54  Kitchen Qual     2930 non-null   object \n",
            " 55  TotRms AbvGrd    2930 non-null   int64  \n",
            " 56  Functional       2930 non-null   object \n",
            " 57  Fireplaces       2930 non-null   int64  \n",
            " 58  Fireplace Qu     1508 non-null   object \n",
            " 59  Garage Type      2773 non-null   object \n",
            " 60  Garage Yr Blt    2771 non-null   float64\n",
            " 61  Garage Finish    2771 non-null   object \n",
            " 62  Garage Cars      2929 non-null   float64\n",
            " 63  Garage Area      2929 non-null   float64\n",
            " 64  Garage Qual      2771 non-null   object \n",
            " 65  Garage Cond      2771 non-null   object \n",
            " 66  Paved Drive      2930 non-null   object \n",
            " 67  Wood Deck SF     2930 non-null   int64  \n",
            " 68  Open Porch SF    2930 non-null   int64  \n",
            " 69  Enclosed Porch   2930 non-null   int64  \n",
            " 70  3Ssn Porch       2930 non-null   int64  \n",
            " 71  Screen Porch     2930 non-null   int64  \n",
            " 72  Pool Area        2930 non-null   int64  \n",
            " 73  Pool QC          13 non-null     object \n",
            " 74  Fence            572 non-null    object \n",
            " 75  Misc Feature     106 non-null    object \n",
            " 76  Misc Val         2930 non-null   int64  \n",
            " 77  Mo Sold          2930 non-null   int64  \n",
            " 78  Yr Sold          2930 non-null   int64  \n",
            " 79  Sale Type        2930 non-null   object \n",
            " 80  Sale Condition   2930 non-null   object \n",
            " 81  SalePrice        2930 non-null   int64  \n",
            "dtypes: float64(11), int64(28), object(43)\n",
            "memory usage: 1.8+ MB\n"
          ]
        }
      ],
      "source": [
        "df.info()"
      ]
    },
    {
      "cell_type": "code",
      "execution_count": 183,
      "metadata": {
        "colab": {
          "base_uri": "https://localhost:8080/"
        },
        "id": "mz2zYxZgCUix",
        "outputId": "fcd29e63-65c1-4498-d587-69fc9ff62147"
      },
      "outputs": [
        {
          "data": {
            "text/plain": [
              "(np.int64(2732), np.int64(2917), np.int64(2358), np.int64(2824))"
            ]
          },
          "execution_count": 183,
          "metadata": {},
          "output_type": "execute_result"
        }
      ],
      "source": [
        "df[\"Alley\"].isnull().sum(),df[\"Pool QC\"].isnull().sum(), df[\"Fence\"].isnull().sum(),  df[\"Misc Feature\"].isnull().sum()"
      ]
    },
    {
      "cell_type": "code",
      "execution_count": 184,
      "metadata": {
        "id": "4Pa68eZZFjQO"
      },
      "outputs": [],
      "source": [
        "df.drop(columns=[\"Pool QC\", \"Alley\", \"Fence\", \"Misc Feature\"], inplace=True) # these coloums have more than 90% NAN data"
      ]
    },
    {
      "cell_type": "code",
      "execution_count": 185,
      "metadata": {
        "colab": {
          "base_uri": "https://localhost:8080/",
          "height": 273
        },
        "id": "v5QVNx3kFn6Z",
        "outputId": "a1b4eb30-730e-4cfe-ecf1-62b03046f791"
      },
      "outputs": [
        {
          "data": {
            "text/html": [
              "<div>\n",
              "<style scoped>\n",
              "    .dataframe tbody tr th:only-of-type {\n",
              "        vertical-align: middle;\n",
              "    }\n",
              "\n",
              "    .dataframe tbody tr th {\n",
              "        vertical-align: top;\n",
              "    }\n",
              "\n",
              "    .dataframe thead th {\n",
              "        text-align: right;\n",
              "    }\n",
              "</style>\n",
              "<table border=\"1\" class=\"dataframe\">\n",
              "  <thead>\n",
              "    <tr style=\"text-align: right;\">\n",
              "      <th></th>\n",
              "      <th>Order</th>\n",
              "      <th>PID</th>\n",
              "      <th>MS SubClass</th>\n",
              "      <th>MS Zoning</th>\n",
              "      <th>Lot Frontage</th>\n",
              "      <th>Lot Area</th>\n",
              "      <th>Street</th>\n",
              "      <th>Lot Shape</th>\n",
              "      <th>Land Contour</th>\n",
              "      <th>Utilities</th>\n",
              "      <th>...</th>\n",
              "      <th>Enclosed Porch</th>\n",
              "      <th>3Ssn Porch</th>\n",
              "      <th>Screen Porch</th>\n",
              "      <th>Pool Area</th>\n",
              "      <th>Misc Val</th>\n",
              "      <th>Mo Sold</th>\n",
              "      <th>Yr Sold</th>\n",
              "      <th>Sale Type</th>\n",
              "      <th>Sale Condition</th>\n",
              "      <th>SalePrice</th>\n",
              "    </tr>\n",
              "  </thead>\n",
              "  <tbody>\n",
              "    <tr>\n",
              "      <th>0</th>\n",
              "      <td>1</td>\n",
              "      <td>526301100</td>\n",
              "      <td>20</td>\n",
              "      <td>RL</td>\n",
              "      <td>141.0</td>\n",
              "      <td>31770</td>\n",
              "      <td>Pave</td>\n",
              "      <td>IR1</td>\n",
              "      <td>Lvl</td>\n",
              "      <td>AllPub</td>\n",
              "      <td>...</td>\n",
              "      <td>0</td>\n",
              "      <td>0</td>\n",
              "      <td>0</td>\n",
              "      <td>0</td>\n",
              "      <td>0</td>\n",
              "      <td>5</td>\n",
              "      <td>2010</td>\n",
              "      <td>WD</td>\n",
              "      <td>Normal</td>\n",
              "      <td>215000</td>\n",
              "    </tr>\n",
              "    <tr>\n",
              "      <th>1</th>\n",
              "      <td>2</td>\n",
              "      <td>526350040</td>\n",
              "      <td>20</td>\n",
              "      <td>RH</td>\n",
              "      <td>80.0</td>\n",
              "      <td>11622</td>\n",
              "      <td>Pave</td>\n",
              "      <td>Reg</td>\n",
              "      <td>Lvl</td>\n",
              "      <td>AllPub</td>\n",
              "      <td>...</td>\n",
              "      <td>0</td>\n",
              "      <td>0</td>\n",
              "      <td>120</td>\n",
              "      <td>0</td>\n",
              "      <td>0</td>\n",
              "      <td>6</td>\n",
              "      <td>2010</td>\n",
              "      <td>WD</td>\n",
              "      <td>Normal</td>\n",
              "      <td>105000</td>\n",
              "    </tr>\n",
              "    <tr>\n",
              "      <th>2</th>\n",
              "      <td>3</td>\n",
              "      <td>526351010</td>\n",
              "      <td>20</td>\n",
              "      <td>RL</td>\n",
              "      <td>81.0</td>\n",
              "      <td>14267</td>\n",
              "      <td>Pave</td>\n",
              "      <td>IR1</td>\n",
              "      <td>Lvl</td>\n",
              "      <td>AllPub</td>\n",
              "      <td>...</td>\n",
              "      <td>0</td>\n",
              "      <td>0</td>\n",
              "      <td>0</td>\n",
              "      <td>0</td>\n",
              "      <td>12500</td>\n",
              "      <td>6</td>\n",
              "      <td>2010</td>\n",
              "      <td>WD</td>\n",
              "      <td>Normal</td>\n",
              "      <td>172000</td>\n",
              "    </tr>\n",
              "    <tr>\n",
              "      <th>3</th>\n",
              "      <td>4</td>\n",
              "      <td>526353030</td>\n",
              "      <td>20</td>\n",
              "      <td>RL</td>\n",
              "      <td>93.0</td>\n",
              "      <td>11160</td>\n",
              "      <td>Pave</td>\n",
              "      <td>Reg</td>\n",
              "      <td>Lvl</td>\n",
              "      <td>AllPub</td>\n",
              "      <td>...</td>\n",
              "      <td>0</td>\n",
              "      <td>0</td>\n",
              "      <td>0</td>\n",
              "      <td>0</td>\n",
              "      <td>0</td>\n",
              "      <td>4</td>\n",
              "      <td>2010</td>\n",
              "      <td>WD</td>\n",
              "      <td>Normal</td>\n",
              "      <td>244000</td>\n",
              "    </tr>\n",
              "    <tr>\n",
              "      <th>4</th>\n",
              "      <td>5</td>\n",
              "      <td>527105010</td>\n",
              "      <td>60</td>\n",
              "      <td>RL</td>\n",
              "      <td>74.0</td>\n",
              "      <td>13830</td>\n",
              "      <td>Pave</td>\n",
              "      <td>IR1</td>\n",
              "      <td>Lvl</td>\n",
              "      <td>AllPub</td>\n",
              "      <td>...</td>\n",
              "      <td>0</td>\n",
              "      <td>0</td>\n",
              "      <td>0</td>\n",
              "      <td>0</td>\n",
              "      <td>0</td>\n",
              "      <td>3</td>\n",
              "      <td>2010</td>\n",
              "      <td>WD</td>\n",
              "      <td>Normal</td>\n",
              "      <td>189900</td>\n",
              "    </tr>\n",
              "  </tbody>\n",
              "</table>\n",
              "<p>5 rows × 78 columns</p>\n",
              "</div>"
            ],
            "text/plain": [
              "   Order        PID  MS SubClass MS Zoning  Lot Frontage  Lot Area Street  \\\n",
              "0      1  526301100           20        RL         141.0     31770   Pave   \n",
              "1      2  526350040           20        RH          80.0     11622   Pave   \n",
              "2      3  526351010           20        RL          81.0     14267   Pave   \n",
              "3      4  526353030           20        RL          93.0     11160   Pave   \n",
              "4      5  527105010           60        RL          74.0     13830   Pave   \n",
              "\n",
              "  Lot Shape Land Contour Utilities  ... Enclosed Porch 3Ssn Porch  \\\n",
              "0       IR1          Lvl    AllPub  ...              0          0   \n",
              "1       Reg          Lvl    AllPub  ...              0          0   \n",
              "2       IR1          Lvl    AllPub  ...              0          0   \n",
              "3       Reg          Lvl    AllPub  ...              0          0   \n",
              "4       IR1          Lvl    AllPub  ...              0          0   \n",
              "\n",
              "  Screen Porch Pool Area Misc Val Mo Sold Yr Sold  Sale Type  Sale Condition  \\\n",
              "0            0         0        0       5    2010        WD           Normal   \n",
              "1          120         0        0       6    2010        WD           Normal   \n",
              "2            0         0    12500       6    2010        WD           Normal   \n",
              "3            0         0        0       4    2010        WD           Normal   \n",
              "4            0         0        0       3    2010        WD           Normal   \n",
              "\n",
              "   SalePrice  \n",
              "0     215000  \n",
              "1     105000  \n",
              "2     172000  \n",
              "3     244000  \n",
              "4     189900  \n",
              "\n",
              "[5 rows x 78 columns]"
            ]
          },
          "execution_count": 185,
          "metadata": {},
          "output_type": "execute_result"
        }
      ],
      "source": [
        "df.head()"
      ]
    },
    {
      "cell_type": "code",
      "execution_count": 186,
      "metadata": {
        "colab": {
          "base_uri": "https://localhost:8080/"
        },
        "id": "FfEtCUSDFql2",
        "outputId": "4377eaf3-e5ee-4611-b04f-668fad0096b1"
      },
      "outputs": [
        {
          "data": {
            "text/plain": [
              "np.int64(4918)"
            ]
          },
          "execution_count": 186,
          "metadata": {},
          "output_type": "execute_result"
        }
      ],
      "source": [
        "df.isnull().sum().sum()"
      ]
    },
    {
      "cell_type": "code",
      "execution_count": 187,
      "metadata": {
        "colab": {
          "base_uri": "https://localhost:8080/"
        },
        "id": "3dTaMXYoJJHZ",
        "outputId": "d114e7cf-6028-410a-8e1b-8417df0d140b"
      },
      "outputs": [
        {
          "name": "stdout",
          "output_type": "stream",
          "text": [
            "<class 'pandas.core.frame.DataFrame'>\n",
            "RangeIndex: 2930 entries, 0 to 2929\n",
            "Data columns (total 78 columns):\n",
            " #   Column           Non-Null Count  Dtype  \n",
            "---  ------           --------------  -----  \n",
            " 0   Order            2930 non-null   int64  \n",
            " 1   PID              2930 non-null   int64  \n",
            " 2   MS SubClass      2930 non-null   int64  \n",
            " 3   MS Zoning        2930 non-null   object \n",
            " 4   Lot Frontage     2440 non-null   float64\n",
            " 5   Lot Area         2930 non-null   int64  \n",
            " 6   Street           2930 non-null   object \n",
            " 7   Lot Shape        2930 non-null   object \n",
            " 8   Land Contour     2930 non-null   object \n",
            " 9   Utilities        2930 non-null   object \n",
            " 10  Lot Config       2930 non-null   object \n",
            " 11  Land Slope       2930 non-null   object \n",
            " 12  Neighborhood     2930 non-null   object \n",
            " 13  Condition 1      2930 non-null   object \n",
            " 14  Condition 2      2930 non-null   object \n",
            " 15  Bldg Type        2930 non-null   object \n",
            " 16  House Style      2930 non-null   object \n",
            " 17  Overall Qual     2930 non-null   int64  \n",
            " 18  Overall Cond     2930 non-null   int64  \n",
            " 19  Year Built       2930 non-null   int64  \n",
            " 20  Year Remod/Add   2930 non-null   int64  \n",
            " 21  Roof Style       2930 non-null   object \n",
            " 22  Roof Matl        2930 non-null   object \n",
            " 23  Exterior 1st     2930 non-null   object \n",
            " 24  Exterior 2nd     2930 non-null   object \n",
            " 25  Mas Vnr Type     1155 non-null   object \n",
            " 26  Mas Vnr Area     2907 non-null   float64\n",
            " 27  Exter Qual       2930 non-null   object \n",
            " 28  Exter Cond       2930 non-null   object \n",
            " 29  Foundation       2930 non-null   object \n",
            " 30  Bsmt Qual        2850 non-null   object \n",
            " 31  Bsmt Cond        2850 non-null   object \n",
            " 32  Bsmt Exposure    2847 non-null   object \n",
            " 33  BsmtFin Type 1   2850 non-null   object \n",
            " 34  BsmtFin SF 1     2929 non-null   float64\n",
            " 35  BsmtFin Type 2   2849 non-null   object \n",
            " 36  BsmtFin SF 2     2929 non-null   float64\n",
            " 37  Bsmt Unf SF      2929 non-null   float64\n",
            " 38  Total Bsmt SF    2929 non-null   float64\n",
            " 39  Heating          2930 non-null   object \n",
            " 40  Heating QC       2930 non-null   object \n",
            " 41  Central Air      2930 non-null   object \n",
            " 42  Electrical       2929 non-null   object \n",
            " 43  1st Flr SF       2930 non-null   int64  \n",
            " 44  2nd Flr SF       2930 non-null   int64  \n",
            " 45  Low Qual Fin SF  2930 non-null   int64  \n",
            " 46  Gr Liv Area      2930 non-null   int64  \n",
            " 47  Bsmt Full Bath   2928 non-null   float64\n",
            " 48  Bsmt Half Bath   2928 non-null   float64\n",
            " 49  Full Bath        2930 non-null   int64  \n",
            " 50  Half Bath        2930 non-null   int64  \n",
            " 51  Bedroom AbvGr    2930 non-null   int64  \n",
            " 52  Kitchen AbvGr    2930 non-null   int64  \n",
            " 53  Kitchen Qual     2930 non-null   object \n",
            " 54  TotRms AbvGrd    2930 non-null   int64  \n",
            " 55  Functional       2930 non-null   object \n",
            " 56  Fireplaces       2930 non-null   int64  \n",
            " 57  Fireplace Qu     1508 non-null   object \n",
            " 58  Garage Type      2773 non-null   object \n",
            " 59  Garage Yr Blt    2771 non-null   float64\n",
            " 60  Garage Finish    2771 non-null   object \n",
            " 61  Garage Cars      2929 non-null   float64\n",
            " 62  Garage Area      2929 non-null   float64\n",
            " 63  Garage Qual      2771 non-null   object \n",
            " 64  Garage Cond      2771 non-null   object \n",
            " 65  Paved Drive      2930 non-null   object \n",
            " 66  Wood Deck SF     2930 non-null   int64  \n",
            " 67  Open Porch SF    2930 non-null   int64  \n",
            " 68  Enclosed Porch   2930 non-null   int64  \n",
            " 69  3Ssn Porch       2930 non-null   int64  \n",
            " 70  Screen Porch     2930 non-null   int64  \n",
            " 71  Pool Area        2930 non-null   int64  \n",
            " 72  Misc Val         2930 non-null   int64  \n",
            " 73  Mo Sold          2930 non-null   int64  \n",
            " 74  Yr Sold          2930 non-null   int64  \n",
            " 75  Sale Type        2930 non-null   object \n",
            " 76  Sale Condition   2930 non-null   object \n",
            " 77  SalePrice        2930 non-null   int64  \n",
            "dtypes: float64(11), int64(28), object(39)\n",
            "memory usage: 1.7+ MB\n"
          ]
        }
      ],
      "source": [
        "df.info()"
      ]
    },
    {
      "cell_type": "code",
      "execution_count": 188,
      "metadata": {
        "id": "CvAU1-K7GApx"
      },
      "outputs": [],
      "source": [
        "none_cat_col=[\"Mas Vnr Type\",\"Bsmt Qual\",\"Bsmt Cond\",\"Bsmt Exposure\",\"BsmtFin Type 1\",\n",
        "              \"BsmtFin Type 2\",\"Fireplace Qu\",\"Garage Type\",\"Garage Finish\",\"Garage Qual\",\"Garage Cond\"]"
      ]
    },
    {
      "cell_type": "code",
      "execution_count": 189,
      "metadata": {
        "id": "EjLm9n7jL6gp"
      },
      "outputs": [],
      "source": [
        "df[none_cat_col]= df[none_cat_col].fillna('None')"
      ]
    },
    {
      "cell_type": "code",
      "execution_count": 190,
      "metadata": {
        "colab": {
          "base_uri": "https://localhost:8080/"
        },
        "id": "p1svSOLpNEAP",
        "outputId": "350248f6-142b-415d-d70f-4e3173e78bb2"
      },
      "outputs": [
        {
          "data": {
            "text/plain": [
              "(np.float64(313.0),\n",
              " np.float64(21.0),\n",
              " np.float64(69.22459016393442),\n",
              " np.float64(68.0))"
            ]
          },
          "execution_count": 190,
          "metadata": {},
          "output_type": "execute_result"
        }
      ],
      "source": [
        "df[\"Lot Frontage\"].max(), df[\"Lot Frontage\"].min(), df[\"Lot Frontage\"].mean(), df[\"Lot Frontage\"].median()"
      ]
    },
    {
      "cell_type": "code",
      "execution_count": 191,
      "metadata": {
        "colab": {
          "base_uri": "https://localhost:8080/",
          "height": 489
        },
        "id": "ty-wyxhlOsWS",
        "outputId": "8572c691-eb79-413c-a066-96299eac4102"
      },
      "outputs": [
        {
          "data": {
            "text/plain": [
              "Lot Frontage\n",
              "60.0     276\n",
              "80.0     137\n",
              "70.0     133\n",
              "50.0     117\n",
              "75.0     105\n",
              "        ... \n",
              "168.0      1\n",
              "111.0      1\n",
              "131.0      1\n",
              "153.0      1\n",
              "133.0      1\n",
              "Name: count, Length: 128, dtype: int64"
            ]
          },
          "execution_count": 191,
          "metadata": {},
          "output_type": "execute_result"
        }
      ],
      "source": [
        "df[\"Lot Frontage\"].value_counts()"
      ]
    },
    {
      "cell_type": "code",
      "execution_count": 192,
      "metadata": {
        "colab": {
          "base_uri": "https://localhost:8080/"
        },
        "id": "nbOwxuqxNZTD",
        "outputId": "2c74f7d1-4fa1-481c-a930-d98a3acb07b7"
      },
      "outputs": [
        {
          "data": {
            "text/plain": [
              "(np.float64(1600.0),\n",
              " np.float64(0.0),\n",
              " np.float64(101.8968008255934),\n",
              " np.float64(0.0))"
            ]
          },
          "execution_count": 192,
          "metadata": {},
          "output_type": "execute_result"
        }
      ],
      "source": [
        "df[\"Mas Vnr Area\"].max(), df[\"Mas Vnr Area\"].min(), df[\"Mas Vnr Area\"].mean(), df[\"Mas Vnr Area\"].median()"
      ]
    },
    {
      "cell_type": "code",
      "execution_count": 193,
      "metadata": {
        "colab": {
          "base_uri": "https://localhost:8080/",
          "height": 489
        },
        "id": "jggwUIjNOjRd",
        "outputId": "0b3c68a4-1f68-4a1a-9199-24b5216930d0"
      },
      "outputs": [
        {
          "data": {
            "text/plain": [
              "Mas Vnr Area\n",
              "0.0      1748\n",
              "120.0      15\n",
              "176.0      13\n",
              "200.0      13\n",
              "180.0      12\n",
              "         ... \n",
              "293.0       1\n",
              "653.0       1\n",
              "630.0       1\n",
              "382.0       1\n",
              "443.0       1\n",
              "Name: count, Length: 445, dtype: int64"
            ]
          },
          "execution_count": 193,
          "metadata": {},
          "output_type": "execute_result"
        }
      ],
      "source": [
        "df[\"Mas Vnr Area\"].value_counts()"
      ]
    },
    {
      "cell_type": "code",
      "execution_count": 194,
      "metadata": {
        "colab": {
          "base_uri": "https://localhost:8080/"
        },
        "id": "_16Ve-OpNaGC",
        "outputId": "7bdaf272-f1d3-424c-bfd7-ec5a6107d175"
      },
      "outputs": [
        {
          "data": {
            "text/plain": [
              "(np.float64(2207.0),\n",
              " np.float64(1895.0),\n",
              " np.float64(1978.1324431613136),\n",
              " np.float64(1979.0))"
            ]
          },
          "execution_count": 194,
          "metadata": {},
          "output_type": "execute_result"
        }
      ],
      "source": [
        "df[\"Garage Yr Blt\"].max(), df[\"Garage Yr Blt\"].min(), df[\"Garage Yr Blt\"].mean(), df[\"Garage Yr Blt\"].median()"
      ]
    },
    {
      "cell_type": "code",
      "execution_count": 195,
      "metadata": {
        "colab": {
          "base_uri": "https://localhost:8080/"
        },
        "id": "Vcl6JV5gMsm_",
        "outputId": "ed40bf79-b535-4215-c83a-e9e38f48e6fb"
      },
      "outputs": [
        {
          "data": {
            "text/plain": [
              "array([1960., 1961., 1958., 1968., 1997., 1998., 2001., 1992., 1995.,\n",
              "       1999., 1993., 1990., 1985., 2003., 1988., 2010., 1951., 1978.,\n",
              "       1977., 1974., 2000., 1970., 1971.,   nan, 1975., 2009., 2008.,\n",
              "       2005., 2004., 2002., 2006., 1996., 1994., 1980., 1979., 1984.,\n",
              "       1986., 1920., 1987., 1973., 1963., 1962., 1976., 1967., 1972.,\n",
              "       1966., 1964., 1950., 1949., 1954., 1955., 1959., 1957., 1956.,\n",
              "       1952., 1953., 1989., 1948., 1900., 1927., 1915., 1945., 1940.,\n",
              "       1938., 1928., 1930., 1926., 1939., 1942., 1923., 1917., 1910.,\n",
              "       1965., 1969., 1947., 1946., 1941., 1924., 1922., 1896., 2007.,\n",
              "       1983., 1981., 1991., 1982., 1916., 1925., 1936., 1935., 1931.,\n",
              "       1934., 1929., 1918., 1921., 1937., 1932., 1906., 1908., 1895.,\n",
              "       1933., 2207., 1914., 1943., 1919.])"
            ]
          },
          "execution_count": 195,
          "metadata": {},
          "output_type": "execute_result"
        }
      ],
      "source": [
        "df[\"Garage Yr Blt\"].unique()"
      ]
    },
    {
      "cell_type": "code",
      "execution_count": 196,
      "metadata": {
        "id": "IeqOr-EbMosO"
      },
      "outputs": [],
      "source": [
        "num_median_col=[\"Lot Frontage\",\"Mas Vnr Area\",\"Garage Yr Blt\"]"
      ]
    },
    {
      "cell_type": "code",
      "execution_count": 197,
      "metadata": {
        "id": "TQtVq3-HPlMC"
      },
      "outputs": [],
      "source": [
        "df[num_median_col]= df[num_median_col].fillna(df[num_median_col].median())"
      ]
    },
    {
      "cell_type": "code",
      "execution_count": 198,
      "metadata": {
        "colab": {
          "base_uri": "https://localhost:8080/"
        },
        "id": "gTpQpcS-SHFp",
        "outputId": "68447c0e-a896-4009-f130-45b1ee0f8229"
      },
      "outputs": [
        {
          "data": {
            "text/plain": [
              "Index(['Lot Frontage', 'Mas Vnr Area', 'Garage Yr Blt'], dtype='object')"
            ]
          },
          "execution_count": 198,
          "metadata": {},
          "output_type": "execute_result"
        }
      ],
      "source": [
        "df[num_median_col].columns"
      ]
    },
    {
      "cell_type": "code",
      "execution_count": 199,
      "metadata": {
        "id": "7QBrAq5gR0Yy"
      },
      "outputs": [],
      "source": [
        "df_original = df.copy()"
      ]
    },
    {
      "cell_type": "code",
      "execution_count": 200,
      "metadata": {
        "id": "ma3psPURR6uz"
      },
      "outputs": [],
      "source": [
        "for col in num_median_col[:]:\n",
        "    df_original[col] = df[col]\n",
        "\n",
        "# Replace cleaned categorical columns\n",
        "for col in none_cat_col[:]:\n",
        "    df_original[col] = df[col]"
      ]
    },
    {
      "cell_type": "code",
      "execution_count": 201,
      "metadata": {
        "colab": {
          "base_uri": "https://localhost:8080/",
          "height": 273
        },
        "id": "AluA2wfIWkEW",
        "outputId": "b792b79c-ea1f-47e8-e859-dcafbf10022b"
      },
      "outputs": [
        {
          "data": {
            "text/html": [
              "<div>\n",
              "<style scoped>\n",
              "    .dataframe tbody tr th:only-of-type {\n",
              "        vertical-align: middle;\n",
              "    }\n",
              "\n",
              "    .dataframe tbody tr th {\n",
              "        vertical-align: top;\n",
              "    }\n",
              "\n",
              "    .dataframe thead th {\n",
              "        text-align: right;\n",
              "    }\n",
              "</style>\n",
              "<table border=\"1\" class=\"dataframe\">\n",
              "  <thead>\n",
              "    <tr style=\"text-align: right;\">\n",
              "      <th></th>\n",
              "      <th>Order</th>\n",
              "      <th>PID</th>\n",
              "      <th>MS SubClass</th>\n",
              "      <th>MS Zoning</th>\n",
              "      <th>Lot Frontage</th>\n",
              "      <th>Lot Area</th>\n",
              "      <th>Street</th>\n",
              "      <th>Lot Shape</th>\n",
              "      <th>Land Contour</th>\n",
              "      <th>Utilities</th>\n",
              "      <th>...</th>\n",
              "      <th>Enclosed Porch</th>\n",
              "      <th>3Ssn Porch</th>\n",
              "      <th>Screen Porch</th>\n",
              "      <th>Pool Area</th>\n",
              "      <th>Misc Val</th>\n",
              "      <th>Mo Sold</th>\n",
              "      <th>Yr Sold</th>\n",
              "      <th>Sale Type</th>\n",
              "      <th>Sale Condition</th>\n",
              "      <th>SalePrice</th>\n",
              "    </tr>\n",
              "  </thead>\n",
              "  <tbody>\n",
              "    <tr>\n",
              "      <th>0</th>\n",
              "      <td>1</td>\n",
              "      <td>526301100</td>\n",
              "      <td>20</td>\n",
              "      <td>RL</td>\n",
              "      <td>141.0</td>\n",
              "      <td>31770</td>\n",
              "      <td>Pave</td>\n",
              "      <td>IR1</td>\n",
              "      <td>Lvl</td>\n",
              "      <td>AllPub</td>\n",
              "      <td>...</td>\n",
              "      <td>0</td>\n",
              "      <td>0</td>\n",
              "      <td>0</td>\n",
              "      <td>0</td>\n",
              "      <td>0</td>\n",
              "      <td>5</td>\n",
              "      <td>2010</td>\n",
              "      <td>WD</td>\n",
              "      <td>Normal</td>\n",
              "      <td>215000</td>\n",
              "    </tr>\n",
              "    <tr>\n",
              "      <th>1</th>\n",
              "      <td>2</td>\n",
              "      <td>526350040</td>\n",
              "      <td>20</td>\n",
              "      <td>RH</td>\n",
              "      <td>80.0</td>\n",
              "      <td>11622</td>\n",
              "      <td>Pave</td>\n",
              "      <td>Reg</td>\n",
              "      <td>Lvl</td>\n",
              "      <td>AllPub</td>\n",
              "      <td>...</td>\n",
              "      <td>0</td>\n",
              "      <td>0</td>\n",
              "      <td>120</td>\n",
              "      <td>0</td>\n",
              "      <td>0</td>\n",
              "      <td>6</td>\n",
              "      <td>2010</td>\n",
              "      <td>WD</td>\n",
              "      <td>Normal</td>\n",
              "      <td>105000</td>\n",
              "    </tr>\n",
              "    <tr>\n",
              "      <th>2</th>\n",
              "      <td>3</td>\n",
              "      <td>526351010</td>\n",
              "      <td>20</td>\n",
              "      <td>RL</td>\n",
              "      <td>81.0</td>\n",
              "      <td>14267</td>\n",
              "      <td>Pave</td>\n",
              "      <td>IR1</td>\n",
              "      <td>Lvl</td>\n",
              "      <td>AllPub</td>\n",
              "      <td>...</td>\n",
              "      <td>0</td>\n",
              "      <td>0</td>\n",
              "      <td>0</td>\n",
              "      <td>0</td>\n",
              "      <td>12500</td>\n",
              "      <td>6</td>\n",
              "      <td>2010</td>\n",
              "      <td>WD</td>\n",
              "      <td>Normal</td>\n",
              "      <td>172000</td>\n",
              "    </tr>\n",
              "    <tr>\n",
              "      <th>3</th>\n",
              "      <td>4</td>\n",
              "      <td>526353030</td>\n",
              "      <td>20</td>\n",
              "      <td>RL</td>\n",
              "      <td>93.0</td>\n",
              "      <td>11160</td>\n",
              "      <td>Pave</td>\n",
              "      <td>Reg</td>\n",
              "      <td>Lvl</td>\n",
              "      <td>AllPub</td>\n",
              "      <td>...</td>\n",
              "      <td>0</td>\n",
              "      <td>0</td>\n",
              "      <td>0</td>\n",
              "      <td>0</td>\n",
              "      <td>0</td>\n",
              "      <td>4</td>\n",
              "      <td>2010</td>\n",
              "      <td>WD</td>\n",
              "      <td>Normal</td>\n",
              "      <td>244000</td>\n",
              "    </tr>\n",
              "    <tr>\n",
              "      <th>4</th>\n",
              "      <td>5</td>\n",
              "      <td>527105010</td>\n",
              "      <td>60</td>\n",
              "      <td>RL</td>\n",
              "      <td>74.0</td>\n",
              "      <td>13830</td>\n",
              "      <td>Pave</td>\n",
              "      <td>IR1</td>\n",
              "      <td>Lvl</td>\n",
              "      <td>AllPub</td>\n",
              "      <td>...</td>\n",
              "      <td>0</td>\n",
              "      <td>0</td>\n",
              "      <td>0</td>\n",
              "      <td>0</td>\n",
              "      <td>0</td>\n",
              "      <td>3</td>\n",
              "      <td>2010</td>\n",
              "      <td>WD</td>\n",
              "      <td>Normal</td>\n",
              "      <td>189900</td>\n",
              "    </tr>\n",
              "  </tbody>\n",
              "</table>\n",
              "<p>5 rows × 78 columns</p>\n",
              "</div>"
            ],
            "text/plain": [
              "   Order        PID  MS SubClass MS Zoning  Lot Frontage  Lot Area Street  \\\n",
              "0      1  526301100           20        RL         141.0     31770   Pave   \n",
              "1      2  526350040           20        RH          80.0     11622   Pave   \n",
              "2      3  526351010           20        RL          81.0     14267   Pave   \n",
              "3      4  526353030           20        RL          93.0     11160   Pave   \n",
              "4      5  527105010           60        RL          74.0     13830   Pave   \n",
              "\n",
              "  Lot Shape Land Contour Utilities  ... Enclosed Porch 3Ssn Porch  \\\n",
              "0       IR1          Lvl    AllPub  ...              0          0   \n",
              "1       Reg          Lvl    AllPub  ...              0          0   \n",
              "2       IR1          Lvl    AllPub  ...              0          0   \n",
              "3       Reg          Lvl    AllPub  ...              0          0   \n",
              "4       IR1          Lvl    AllPub  ...              0          0   \n",
              "\n",
              "  Screen Porch Pool Area Misc Val Mo Sold Yr Sold  Sale Type  Sale Condition  \\\n",
              "0            0         0        0       5    2010        WD           Normal   \n",
              "1          120         0        0       6    2010        WD           Normal   \n",
              "2            0         0    12500       6    2010        WD           Normal   \n",
              "3            0         0        0       4    2010        WD           Normal   \n",
              "4            0         0        0       3    2010        WD           Normal   \n",
              "\n",
              "   SalePrice  \n",
              "0     215000  \n",
              "1     105000  \n",
              "2     172000  \n",
              "3     244000  \n",
              "4     189900  \n",
              "\n",
              "[5 rows x 78 columns]"
            ]
          },
          "execution_count": 201,
          "metadata": {},
          "output_type": "execute_result"
        }
      ],
      "source": [
        "df.head()"
      ]
    },
    {
      "cell_type": "code",
      "execution_count": 202,
      "metadata": {
        "colab": {
          "base_uri": "https://localhost:8080/"
        },
        "id": "b1tG6Hc5V8hc",
        "outputId": "74744425-8a4a-4ab0-815a-006fb65f32e6"
      },
      "outputs": [
        {
          "data": {
            "text/plain": [
              "np.int64(11)"
            ]
          },
          "execution_count": 202,
          "metadata": {},
          "output_type": "execute_result"
        }
      ],
      "source": [
        "df.isnull().sum().sum()"
      ]
    },
    {
      "cell_type": "code",
      "execution_count": 203,
      "metadata": {
        "id": "Q-KkO3I4XAuU"
      },
      "outputs": [],
      "source": [
        "df.dropna(inplace=True)"
      ]
    },
    {
      "cell_type": "code",
      "execution_count": 204,
      "metadata": {
        "colab": {
          "base_uri": "https://localhost:8080/"
        },
        "id": "FOpfKq9wXL2S",
        "outputId": "433ea2d3-e4ad-48bc-acd4-85ac48a1f107"
      },
      "outputs": [
        {
          "data": {
            "text/plain": [
              "np.int64(0)"
            ]
          },
          "execution_count": 204,
          "metadata": {},
          "output_type": "execute_result"
        }
      ],
      "source": [
        "df.isnull().sum().sum()"
      ]
    },
    {
      "cell_type": "code",
      "execution_count": 205,
      "metadata": {
        "id": "dnjKWrN5Xkzn"
      },
      "outputs": [],
      "source": [
        "num_col = df.select_dtypes(include=np.number).columns"
      ]
    },
    {
      "cell_type": "code",
      "execution_count": 206,
      "metadata": {
        "colab": {
          "base_uri": "https://localhost:8080/"
        },
        "id": "WrqTP5XXRhGU",
        "outputId": "13b727ee-ea12-4127-d7d7-f253ce903f5a"
      },
      "outputs": [
        {
          "data": {
            "text/plain": [
              "Index(['Order', 'PID', 'MS SubClass', 'Lot Frontage', 'Lot Area',\n",
              "       'Overall Qual', 'Overall Cond', 'Year Built', 'Year Remod/Add',\n",
              "       'Mas Vnr Area', 'BsmtFin SF 1', 'BsmtFin SF 2', 'Bsmt Unf SF',\n",
              "       'Total Bsmt SF', '1st Flr SF', '2nd Flr SF', 'Low Qual Fin SF',\n",
              "       'Gr Liv Area', 'Bsmt Full Bath', 'Bsmt Half Bath', 'Full Bath',\n",
              "       'Half Bath', 'Bedroom AbvGr', 'Kitchen AbvGr', 'TotRms AbvGrd',\n",
              "       'Fireplaces', 'Garage Yr Blt', 'Garage Cars', 'Garage Area',\n",
              "       'Wood Deck SF', 'Open Porch SF', 'Enclosed Porch', '3Ssn Porch',\n",
              "       'Screen Porch', 'Pool Area', 'Misc Val', 'Mo Sold', 'Yr Sold',\n",
              "       'SalePrice'],\n",
              "      dtype='object')"
            ]
          },
          "execution_count": 206,
          "metadata": {},
          "output_type": "execute_result"
        }
      ],
      "source": [
        "num_col"
      ]
    },
    {
      "cell_type": "code",
      "execution_count": 207,
      "metadata": {
        "id": "320qGvAhRrmJ"
      },
      "outputs": [],
      "source": [
        "import seaborn as sns\n",
        "import matplotlib.pyplot as plt"
      ]
    },
    {
      "cell_type": "code",
      "execution_count": 208,
      "metadata": {
        "id": "CYxf9lasRmFZ"
      },
      "outputs": [],
      "source": [
        "# corr = df[num_col].corr()\n",
        "# corr"
      ]
    },
    {
      "cell_type": "code",
      "execution_count": 209,
      "metadata": {
        "id": "eO6ez4PJR-Sz"
      },
      "outputs": [],
      "source": [
        "# plt.figure(figsize=(40, 15))\n",
        "# sns.heatmap(corr,annot=True, cmap='coolwarm')\n",
        "# plt.show()"
      ]
    },
    {
      "cell_type": "code",
      "execution_count": 210,
      "metadata": {
        "colab": {
          "base_uri": "https://localhost:8080/",
          "height": 430
        },
        "id": "krb64YWWyzqz",
        "outputId": "01a208fb-b2ec-4467-9e33-a5443f151f02"
      },
      "outputs": [
        {
          "data": {
            "image/png": "[encoded data removed]",
            "text/plain": [
              "<Figure size 640x480 with 1 Axes>"
            ]
          },
          "metadata": {},
          "output_type": "display_data"
        }
      ],
      "source": [
        "plt.boxplot(df[\"SalePrice\"])\n",
        "plt.show()"
      ]
    },
    {
      "cell_type": "code",
      "execution_count": 211,
      "metadata": {
        "id": "97yTiRuIzPf0"
      },
      "outputs": [],
      "source": [
        "Q1 = df[\"SalePrice\"].quantile(0.25)\n",
        "Q3 = df[\"SalePrice\"].quantile(0.75)\n",
        "IQR = Q3 - Q1"
      ]
    },
    {
      "cell_type": "code",
      "execution_count": 212,
      "metadata": {
        "id": "v_Rbvz9Ezc8S"
      },
      "outputs": [],
      "source": [
        "lower_bound = Q1 - 1.5 * IQR\n",
        "upper_bound = Q3 + 1.5 * IQR"
      ]
    },
    {
      "cell_type": "code",
      "execution_count": 213,
      "metadata": {
        "colab": {
          "base_uri": "https://localhost:8080/"
        },
        "id": "u1Cvsec_zf8i",
        "outputId": "2aaa5a22-7536-4e66-d387-3f054530f084"
      },
      "outputs": [
        {
          "data": {
            "text/plain": [
              "(np.float64(3500.0), np.float64(339500.0))"
            ]
          },
          "execution_count": 213,
          "metadata": {},
          "output_type": "execute_result"
        }
      ],
      "source": [
        "lower_bound, upper_bound"
      ]
    },
    {
      "cell_type": "code",
      "execution_count": 214,
      "metadata": {
        "colab": {
          "base_uri": "https://localhost:8080/"
        },
        "id": "SWudoSe8zyIJ",
        "outputId": "011df7b3-1f82-41d9-8748-05a206da8a65"
      },
      "outputs": [
        {
          "data": {
            "text/plain": [
              "(np.int64(12789), np.int64(755000))"
            ]
          },
          "execution_count": 214,
          "metadata": {},
          "output_type": "execute_result"
        }
      ],
      "source": [
        "df[\"SalePrice\"].min(), df[\"SalePrice\"].max()"
      ]
    },
    {
      "cell_type": "code",
      "execution_count": 215,
      "metadata": {
        "colab": {
          "base_uri": "https://localhost:8080/",
          "height": 178
        },
        "id": "s3UjtZ8Tz1OU",
        "outputId": "cc33c380-d8ed-4e8a-92e0-d711a4dc2ef2"
      },
      "outputs": [
        {
          "data": {
            "text/plain": [
              "SalePrice\n",
              "False    2789\n",
              "True      137\n",
              "Name: count, dtype: int64"
            ]
          },
          "execution_count": 215,
          "metadata": {},
          "output_type": "execute_result"
        }
      ],
      "source": [
        "((df[\"SalePrice\"] >= upper_bound)).value_counts()"
      ]
    },
    {
      "cell_type": "code",
      "execution_count": 216,
      "metadata": {
        "id": "_oHbzv3izvaR"
      },
      "outputs": [],
      "source": [
        "df = df[(df[\"SalePrice\"] >= lower_bound) & (df[\"SalePrice\"] <= upper_bound)]"
      ]
    },
    {
      "cell_type": "code",
      "execution_count": 217,
      "metadata": {
        "colab": {
          "base_uri": "https://localhost:8080/",
          "height": 430
        },
        "id": "KDVYhClg4eJ2",
        "outputId": "9cebcc54-ff9f-44ce-caea-070dc3dcbc55"
      },
      "outputs": [
        {
          "data": {
            "image/png": "[encoded data removed]",
            "text/plain": [
              "<Figure size 640x480 with 1 Axes>"
            ]
          },
          "metadata": {},
          "output_type": "display_data"
        }
      ],
      "source": [
        "plt.boxplot(df[\"SalePrice\"])\n",
        "plt.show()"
      ]
    },
    {
      "cell_type": "code",
      "execution_count": 218,
      "metadata": {
        "colab": {
          "base_uri": "https://localhost:8080/"
        },
        "id": "90_uuyjQ4mc3",
        "outputId": "b9cb2e7d-0e37-4ba7-a82b-7d39b19f8290"
      },
      "outputs": [
        {
          "data": {
            "text/plain": [
              "(2789, 78)"
            ]
          },
          "execution_count": 218,
          "metadata": {},
          "output_type": "execute_result"
        }
      ],
      "source": [
        "df.shape"
      ]
    },
    {
      "cell_type": "code",
      "execution_count": 219,
      "metadata": {
        "colab": {
          "base_uri": "https://localhost:8080/"
        },
        "id": "yFetyiRDYLIe",
        "outputId": "4e81961d-dcc8-4f76-8b75-6abd94bb9576"
      },
      "outputs": [
        {
          "name": "stdout",
          "output_type": "stream",
          "text": [
            "Dropped columns: ['Order', 'MS SubClass', 'Overall Cond', 'BsmtFin SF 2', 'Low Qual Fin SF', 'Bsmt Half Bath', '3Ssn Porch', 'Screen Porch', 'Pool Area', 'Misc Val', 'Mo Sold', 'Yr Sold']\n",
            "New DataFrame shape: (2789, 27)\n"
          ]
        }
      ],
      "source": [
        "num_col = df.select_dtypes(include=np.number).columns\n",
        "df_numeric = df[num_col]\n",
        "\n",
        "# Compute correlation matrix\n",
        "corr = df_numeric.corr()\n",
        "\n",
        "# Plot heatmap\n",
        "# plt.figure(figsize=(40, 15))\n",
        "# sns.heatmap(corr, annot=True, cmap='coolwarm')\n",
        "# plt.title(\"Correlation Matrix of Numeric Features\")\n",
        "# plt.show()\n",
        "\n",
        "# Set a threshold for correlation with SalePrice\n",
        "threshold = 0.1\n",
        "\n",
        "# Get correlation of each feature with SalePrice\n",
        "corr_with_saleprice = corr[\"SalePrice\"]\n",
        "\n",
        "# Filter columns where absolute correlation is below the threshold\n",
        "low_corr_features = corr_with_saleprice[abs(corr_with_saleprice) < threshold].index\n",
        "\n",
        "# Drop those features from the numeric DataFrame\n",
        "df_reduced = df_numeric.drop(columns=low_corr_features)\n",
        "\n",
        "# Print the dropped columns and the shape of the new DataFrame\n",
        "print(\"Dropped columns:\", list(low_corr_features))\n",
        "print(\"New DataFrame shape:\", df_reduced.shape)\n",
        "\n"
      ]
    },
    {
      "cell_type": "code",
      "execution_count": null,
      "metadata": {},
      "outputs": [],
      "source": [
        "train = pd.concat((df_reduced,df_categorical), axis=1)"
      ]
    },
    {
      "cell_type": "code",
      "execution_count": 250,
      "metadata": {},
      "outputs": [],
      "source": [
        "train.to_csv('train.csv', index=False)"
      ]
    },
    {
      "cell_type": "code",
      "execution_count": 220,
      "metadata": {},
      "outputs": [],
      "source": [
        "from sklearn.preprocessing import LabelEncoder\n",
        "le = LabelEncoder()\n",
        "df_categorical = df.select_dtypes(exclude=np.number)\n",
        "df_categorical_encoded = df_categorical.apply(le.fit_transform)"
      ]
    },
    {
      "cell_type": "code",
      "execution_count": 221,
      "metadata": {},
      "outputs": [
        {
          "data": {
            "text/html": [
              "<div>\n",
              "<style scoped>\n",
              "    .dataframe tbody tr th:only-of-type {\n",
              "        vertical-align: middle;\n",
              "    }\n",
              "\n",
              "    .dataframe tbody tr th {\n",
              "        vertical-align: top;\n",
              "    }\n",
              "\n",
              "    .dataframe thead th {\n",
              "        text-align: right;\n",
              "    }\n",
              "</style>\n",
              "<table border=\"1\" class=\"dataframe\">\n",
              "  <thead>\n",
              "    <tr style=\"text-align: right;\">\n",
              "      <th></th>\n",
              "      <th>MS Zoning</th>\n",
              "      <th>Street</th>\n",
              "      <th>Lot Shape</th>\n",
              "      <th>Land Contour</th>\n",
              "      <th>Utilities</th>\n",
              "      <th>Lot Config</th>\n",
              "      <th>Land Slope</th>\n",
              "      <th>Neighborhood</th>\n",
              "      <th>Condition 1</th>\n",
              "      <th>Condition 2</th>\n",
              "      <th>...</th>\n",
              "      <th>Kitchen Qual</th>\n",
              "      <th>Functional</th>\n",
              "      <th>Fireplace Qu</th>\n",
              "      <th>Garage Type</th>\n",
              "      <th>Garage Finish</th>\n",
              "      <th>Garage Qual</th>\n",
              "      <th>Garage Cond</th>\n",
              "      <th>Paved Drive</th>\n",
              "      <th>Sale Type</th>\n",
              "      <th>Sale Condition</th>\n",
              "    </tr>\n",
              "  </thead>\n",
              "  <tbody>\n",
              "    <tr>\n",
              "      <th>0</th>\n",
              "      <td>RL</td>\n",
              "      <td>Pave</td>\n",
              "      <td>IR1</td>\n",
              "      <td>Lvl</td>\n",
              "      <td>AllPub</td>\n",
              "      <td>Corner</td>\n",
              "      <td>Gtl</td>\n",
              "      <td>NAmes</td>\n",
              "      <td>Norm</td>\n",
              "      <td>Norm</td>\n",
              "      <td>...</td>\n",
              "      <td>TA</td>\n",
              "      <td>Typ</td>\n",
              "      <td>Gd</td>\n",
              "      <td>Attchd</td>\n",
              "      <td>Fin</td>\n",
              "      <td>TA</td>\n",
              "      <td>TA</td>\n",
              "      <td>P</td>\n",
              "      <td>WD</td>\n",
              "      <td>Normal</td>\n",
              "    </tr>\n",
              "    <tr>\n",
              "      <th>1</th>\n",
              "      <td>RH</td>\n",
              "      <td>Pave</td>\n",
              "      <td>Reg</td>\n",
              "      <td>Lvl</td>\n",
              "      <td>AllPub</td>\n",
              "      <td>Inside</td>\n",
              "      <td>Gtl</td>\n",
              "      <td>NAmes</td>\n",
              "      <td>Feedr</td>\n",
              "      <td>Norm</td>\n",
              "      <td>...</td>\n",
              "      <td>TA</td>\n",
              "      <td>Typ</td>\n",
              "      <td>None</td>\n",
              "      <td>Attchd</td>\n",
              "      <td>Unf</td>\n",
              "      <td>TA</td>\n",
              "      <td>TA</td>\n",
              "      <td>Y</td>\n",
              "      <td>WD</td>\n",
              "      <td>Normal</td>\n",
              "    </tr>\n",
              "    <tr>\n",
              "      <th>2</th>\n",
              "      <td>RL</td>\n",
              "      <td>Pave</td>\n",
              "      <td>IR1</td>\n",
              "      <td>Lvl</td>\n",
              "      <td>AllPub</td>\n",
              "      <td>Corner</td>\n",
              "      <td>Gtl</td>\n",
              "      <td>NAmes</td>\n",
              "      <td>Norm</td>\n",
              "      <td>Norm</td>\n",
              "      <td>...</td>\n",
              "      <td>Gd</td>\n",
              "      <td>Typ</td>\n",
              "      <td>None</td>\n",
              "      <td>Attchd</td>\n",
              "      <td>Unf</td>\n",
              "      <td>TA</td>\n",
              "      <td>TA</td>\n",
              "      <td>Y</td>\n",
              "      <td>WD</td>\n",
              "      <td>Normal</td>\n",
              "    </tr>\n",
              "    <tr>\n",
              "      <th>3</th>\n",
              "      <td>RL</td>\n",
              "      <td>Pave</td>\n",
              "      <td>Reg</td>\n",
              "      <td>Lvl</td>\n",
              "      <td>AllPub</td>\n",
              "      <td>Corner</td>\n",
              "      <td>Gtl</td>\n",
              "      <td>NAmes</td>\n",
              "      <td>Norm</td>\n",
              "      <td>Norm</td>\n",
              "      <td>...</td>\n",
              "      <td>Ex</td>\n",
              "      <td>Typ</td>\n",
              "      <td>TA</td>\n",
              "      <td>Attchd</td>\n",
              "      <td>Fin</td>\n",
              "      <td>TA</td>\n",
              "      <td>TA</td>\n",
              "      <td>Y</td>\n",
              "      <td>WD</td>\n",
              "      <td>Normal</td>\n",
              "    </tr>\n",
              "    <tr>\n",
              "      <th>4</th>\n",
              "      <td>RL</td>\n",
              "      <td>Pave</td>\n",
              "      <td>IR1</td>\n",
              "      <td>Lvl</td>\n",
              "      <td>AllPub</td>\n",
              "      <td>Inside</td>\n",
              "      <td>Gtl</td>\n",
              "      <td>Gilbert</td>\n",
              "      <td>Norm</td>\n",
              "      <td>Norm</td>\n",
              "      <td>...</td>\n",
              "      <td>TA</td>\n",
              "      <td>Typ</td>\n",
              "      <td>TA</td>\n",
              "      <td>Attchd</td>\n",
              "      <td>Fin</td>\n",
              "      <td>TA</td>\n",
              "      <td>TA</td>\n",
              "      <td>Y</td>\n",
              "      <td>WD</td>\n",
              "      <td>Normal</td>\n",
              "    </tr>\n",
              "    <tr>\n",
              "      <th>...</th>\n",
              "      <td>...</td>\n",
              "      <td>...</td>\n",
              "      <td>...</td>\n",
              "      <td>...</td>\n",
              "      <td>...</td>\n",
              "      <td>...</td>\n",
              "      <td>...</td>\n",
              "      <td>...</td>\n",
              "      <td>...</td>\n",
              "      <td>...</td>\n",
              "      <td>...</td>\n",
              "      <td>...</td>\n",
              "      <td>...</td>\n",
              "      <td>...</td>\n",
              "      <td>...</td>\n",
              "      <td>...</td>\n",
              "      <td>...</td>\n",
              "      <td>...</td>\n",
              "      <td>...</td>\n",
              "      <td>...</td>\n",
              "      <td>...</td>\n",
              "    </tr>\n",
              "    <tr>\n",
              "      <th>2925</th>\n",
              "      <td>RL</td>\n",
              "      <td>Pave</td>\n",
              "      <td>IR1</td>\n",
              "      <td>Lvl</td>\n",
              "      <td>AllPub</td>\n",
              "      <td>CulDSac</td>\n",
              "      <td>Gtl</td>\n",
              "      <td>Mitchel</td>\n",
              "      <td>Norm</td>\n",
              "      <td>Norm</td>\n",
              "      <td>...</td>\n",
              "      <td>TA</td>\n",
              "      <td>Typ</td>\n",
              "      <td>None</td>\n",
              "      <td>Detchd</td>\n",
              "      <td>Unf</td>\n",
              "      <td>TA</td>\n",
              "      <td>TA</td>\n",
              "      <td>Y</td>\n",
              "      <td>WD</td>\n",
              "      <td>Normal</td>\n",
              "    </tr>\n",
              "    <tr>\n",
              "      <th>2926</th>\n",
              "      <td>RL</td>\n",
              "      <td>Pave</td>\n",
              "      <td>IR1</td>\n",
              "      <td>Low</td>\n",
              "      <td>AllPub</td>\n",
              "      <td>Inside</td>\n",
              "      <td>Mod</td>\n",
              "      <td>Mitchel</td>\n",
              "      <td>Norm</td>\n",
              "      <td>Norm</td>\n",
              "      <td>...</td>\n",
              "      <td>TA</td>\n",
              "      <td>Typ</td>\n",
              "      <td>None</td>\n",
              "      <td>Attchd</td>\n",
              "      <td>Unf</td>\n",
              "      <td>TA</td>\n",
              "      <td>TA</td>\n",
              "      <td>Y</td>\n",
              "      <td>WD</td>\n",
              "      <td>Normal</td>\n",
              "    </tr>\n",
              "    <tr>\n",
              "      <th>2927</th>\n",
              "      <td>RL</td>\n",
              "      <td>Pave</td>\n",
              "      <td>Reg</td>\n",
              "      <td>Lvl</td>\n",
              "      <td>AllPub</td>\n",
              "      <td>Inside</td>\n",
              "      <td>Gtl</td>\n",
              "      <td>Mitchel</td>\n",
              "      <td>Norm</td>\n",
              "      <td>Norm</td>\n",
              "      <td>...</td>\n",
              "      <td>TA</td>\n",
              "      <td>Typ</td>\n",
              "      <td>None</td>\n",
              "      <td>None</td>\n",
              "      <td>None</td>\n",
              "      <td>None</td>\n",
              "      <td>None</td>\n",
              "      <td>Y</td>\n",
              "      <td>WD</td>\n",
              "      <td>Normal</td>\n",
              "    </tr>\n",
              "    <tr>\n",
              "      <th>2928</th>\n",
              "      <td>RL</td>\n",
              "      <td>Pave</td>\n",
              "      <td>Reg</td>\n",
              "      <td>Lvl</td>\n",
              "      <td>AllPub</td>\n",
              "      <td>Inside</td>\n",
              "      <td>Mod</td>\n",
              "      <td>Mitchel</td>\n",
              "      <td>Norm</td>\n",
              "      <td>Norm</td>\n",
              "      <td>...</td>\n",
              "      <td>TA</td>\n",
              "      <td>Typ</td>\n",
              "      <td>TA</td>\n",
              "      <td>Attchd</td>\n",
              "      <td>RFn</td>\n",
              "      <td>TA</td>\n",
              "      <td>TA</td>\n",
              "      <td>Y</td>\n",
              "      <td>WD</td>\n",
              "      <td>Normal</td>\n",
              "    </tr>\n",
              "    <tr>\n",
              "      <th>2929</th>\n",
              "      <td>RL</td>\n",
              "      <td>Pave</td>\n",
              "      <td>Reg</td>\n",
              "      <td>Lvl</td>\n",
              "      <td>AllPub</td>\n",
              "      <td>Inside</td>\n",
              "      <td>Mod</td>\n",
              "      <td>Mitchel</td>\n",
              "      <td>Norm</td>\n",
              "      <td>Norm</td>\n",
              "      <td>...</td>\n",
              "      <td>TA</td>\n",
              "      <td>Typ</td>\n",
              "      <td>TA</td>\n",
              "      <td>Attchd</td>\n",
              "      <td>Fin</td>\n",
              "      <td>TA</td>\n",
              "      <td>TA</td>\n",
              "      <td>Y</td>\n",
              "      <td>WD</td>\n",
              "      <td>Normal</td>\n",
              "    </tr>\n",
              "  </tbody>\n",
              "</table>\n",
              "<p>2789 rows × 39 columns</p>\n",
              "</div>"
            ],
            "text/plain": [
              "     MS Zoning Street Lot Shape Land Contour Utilities Lot Config Land Slope  \\\n",
              "0           RL   Pave       IR1          Lvl    AllPub     Corner        Gtl   \n",
              "1           RH   Pave       Reg          Lvl    AllPub     Inside        Gtl   \n",
              "2           RL   Pave       IR1          Lvl    AllPub     Corner        Gtl   \n",
              "3           RL   Pave       Reg          Lvl    AllPub     Corner        Gtl   \n",
              "4           RL   Pave       IR1          Lvl    AllPub     Inside        Gtl   \n",
              "...        ...    ...       ...          ...       ...        ...        ...   \n",
              "2925        RL   Pave       IR1          Lvl    AllPub    CulDSac        Gtl   \n",
              "2926        RL   Pave       IR1          Low    AllPub     Inside        Mod   \n",
              "2927        RL   Pave       Reg          Lvl    AllPub     Inside        Gtl   \n",
              "2928        RL   Pave       Reg          Lvl    AllPub     Inside        Mod   \n",
              "2929        RL   Pave       Reg          Lvl    AllPub     Inside        Mod   \n",
              "\n",
              "     Neighborhood Condition 1 Condition 2  ... Kitchen Qual Functional  \\\n",
              "0           NAmes        Norm        Norm  ...           TA        Typ   \n",
              "1           NAmes       Feedr        Norm  ...           TA        Typ   \n",
              "2           NAmes        Norm        Norm  ...           Gd        Typ   \n",
              "3           NAmes        Norm        Norm  ...           Ex        Typ   \n",
              "4         Gilbert        Norm        Norm  ...           TA        Typ   \n",
              "...           ...         ...         ...  ...          ...        ...   \n",
              "2925      Mitchel        Norm        Norm  ...           TA        Typ   \n",
              "2926      Mitchel        Norm        Norm  ...           TA        Typ   \n",
              "2927      Mitchel        Norm        Norm  ...           TA        Typ   \n",
              "2928      Mitchel        Norm        Norm  ...           TA        Typ   \n",
              "2929      Mitchel        Norm        Norm  ...           TA        Typ   \n",
              "\n",
              "     Fireplace Qu Garage Type Garage Finish Garage Qual Garage Cond  \\\n",
              "0              Gd      Attchd           Fin          TA          TA   \n",
              "1            None      Attchd           Unf          TA          TA   \n",
              "2            None      Attchd           Unf          TA          TA   \n",
              "3              TA      Attchd           Fin          TA          TA   \n",
              "4              TA      Attchd           Fin          TA          TA   \n",
              "...           ...         ...           ...         ...         ...   \n",
              "2925         None      Detchd           Unf          TA          TA   \n",
              "2926         None      Attchd           Unf          TA          TA   \n",
              "2927         None        None          None        None        None   \n",
              "2928           TA      Attchd           RFn          TA          TA   \n",
              "2929           TA      Attchd           Fin          TA          TA   \n",
              "\n",
              "     Paved Drive Sale Type Sale Condition  \n",
              "0              P       WD          Normal  \n",
              "1              Y       WD          Normal  \n",
              "2              Y       WD          Normal  \n",
              "3              Y       WD          Normal  \n",
              "4              Y       WD          Normal  \n",
              "...          ...       ...            ...  \n",
              "2925           Y       WD          Normal  \n",
              "2926           Y       WD          Normal  \n",
              "2927           Y       WD          Normal  \n",
              "2928           Y       WD          Normal  \n",
              "2929           Y       WD          Normal  \n",
              "\n",
              "[2789 rows x 39 columns]"
            ]
          },
          "execution_count": 221,
          "metadata": {},
          "output_type": "execute_result"
        }
      ],
      "source": [
        "df_categorical"
      ]
    },
    {
      "cell_type": "code",
      "execution_count": 222,
      "metadata": {},
      "outputs": [],
      "source": [
        "import pickle\n",
        "with open('le.pkl','wb') as file:\n",
        "    pickle.dump(le,file)"
      ]
    },
    {
      "cell_type": "code",
      "execution_count": 223,
      "metadata": {},
      "outputs": [
        {
          "data": {
            "text/plain": [
              "Index(['Order', 'PID', 'MS SubClass', 'Lot Frontage', 'Lot Area',\n",
              "       'Overall Qual', 'Overall Cond', 'Year Built', 'Year Remod/Add',\n",
              "       'Mas Vnr Area', 'BsmtFin SF 1', 'BsmtFin SF 2', 'Bsmt Unf SF',\n",
              "       'Total Bsmt SF', '1st Flr SF', '2nd Flr SF', 'Low Qual Fin SF',\n",
              "       'Gr Liv Area', 'Bsmt Full Bath', 'Bsmt Half Bath', 'Full Bath',\n",
              "       'Half Bath', 'Bedroom AbvGr', 'Kitchen AbvGr', 'TotRms AbvGrd',\n",
              "       'Fireplaces', 'Garage Yr Blt', 'Garage Cars', 'Garage Area',\n",
              "       'Wood Deck SF', 'Open Porch SF', 'Enclosed Porch', '3Ssn Porch',\n",
              "       'Screen Porch', 'Pool Area', 'Misc Val', 'Mo Sold', 'Yr Sold',\n",
              "       'SalePrice'],\n",
              "      dtype='object')"
            ]
          },
          "execution_count": 223,
          "metadata": {},
          "output_type": "execute_result"
        }
      ],
      "source": [
        "df_numeric.columns"
      ]
    },
    {
      "cell_type": "code",
      "execution_count": 224,
      "metadata": {},
      "outputs": [
        {
          "data": {
            "text/plain": [
              "Index(['MS Zoning', 'Street', 'Lot Shape', 'Land Contour', 'Utilities',\n",
              "       'Lot Config', 'Land Slope', 'Neighborhood', 'Condition 1',\n",
              "       'Condition 2', 'Bldg Type', 'House Style', 'Roof Style', 'Roof Matl',\n",
              "       'Exterior 1st', 'Exterior 2nd', 'Mas Vnr Type', 'Exter Qual',\n",
              "       'Exter Cond', 'Foundation', 'Bsmt Qual', 'Bsmt Cond', 'Bsmt Exposure',\n",
              "       'BsmtFin Type 1', 'BsmtFin Type 2', 'Heating', 'Heating QC',\n",
              "       'Central Air', 'Electrical', 'Kitchen Qual', 'Functional',\n",
              "       'Fireplace Qu', 'Garage Type', 'Garage Finish', 'Garage Qual',\n",
              "       'Garage Cond', 'Paved Drive', 'Sale Type', 'Sale Condition'],\n",
              "      dtype='object')"
            ]
          },
          "execution_count": 224,
          "metadata": {},
          "output_type": "execute_result"
        }
      ],
      "source": [
        "df_categorical.columns"
      ]
    },
    {
      "cell_type": "code",
      "execution_count": 225,
      "metadata": {
        "colab": {
          "base_uri": "https://localhost:8080/"
        },
        "id": "JcKZF8wdbsNf",
        "outputId": "76ad2c63-4329-49be-b562-ecbf098eb92c"
      },
      "outputs": [
        {
          "name": "stdout",
          "output_type": "stream",
          "text": [
            "Final encoded DataFrame shape: (2789, 66)\n",
            "Final columns: ['PID', 'Lot Frontage', 'Lot Area', 'Overall Qual', 'Year Built', 'Year Remod/Add', 'Mas Vnr Area', 'BsmtFin SF 1', 'Bsmt Unf SF', 'Total Bsmt SF', '1st Flr SF', '2nd Flr SF', 'Gr Liv Area', 'Bsmt Full Bath', 'Full Bath', 'Half Bath', 'Bedroom AbvGr', 'Kitchen AbvGr', 'TotRms AbvGrd', 'Fireplaces', 'Garage Yr Blt', 'Garage Cars', 'Garage Area', 'Wood Deck SF', 'Open Porch SF', 'Enclosed Porch', 'SalePrice', 'MS Zoning', 'Street', 'Lot Shape', 'Land Contour', 'Utilities', 'Lot Config', 'Land Slope', 'Neighborhood', 'Condition 1', 'Condition 2', 'Bldg Type', 'House Style', 'Roof Style', 'Roof Matl', 'Exterior 1st', 'Exterior 2nd', 'Mas Vnr Type', 'Exter Qual', 'Exter Cond', 'Foundation', 'Bsmt Qual', 'Bsmt Cond', 'Bsmt Exposure', 'BsmtFin Type 1', 'BsmtFin Type 2', 'Heating', 'Heating QC', 'Central Air', 'Electrical', 'Kitchen Qual', 'Functional', 'Fireplace Qu', 'Garage Type', 'Garage Finish', 'Garage Qual', 'Garage Cond', 'Paved Drive', 'Sale Type', 'Sale Condition']\n"
          ]
        }
      ],
      "source": [
        "\n",
        "\n",
        "# 4. Encode categorical columns using one-hot encoding\n",
        "#df_encoded = pd.get_dummies(df_categorical, drop_first=True)\n",
        "\n",
        "# 5. Combine numeric and encoded categorical features\n",
        "df_final = pd.concat([df_reduced, df_categorical_encoded], axis=1)\n",
        "\n",
        "#  Result\n",
        "print(\"Final encoded DataFrame shape:\", df_final.shape)\n",
        "print(\"Final columns:\", df_final.columns.tolist())"
      ]
    },
    {
      "cell_type": "code",
      "execution_count": 236,
      "metadata": {},
      "outputs": [],
      "source": [
        "df_final.to_csv('train_df.csv', index=False)"
      ]
    },
    {
      "cell_type": "code",
      "execution_count": 228,
      "metadata": {
        "colab": {
          "base_uri": "https://localhost:8080/"
        },
        "id": "kU0cuzrKbcKS",
        "outputId": "65af1037-0c77-47b2-da63-768a9903c6ed"
      },
      "outputs": [],
      "source": [
        "with open('scaler.pkl','wb') as file:\n",
        "    pickle.dump(scaler,file)"
      ]
    },
    {
      "cell_type": "code",
      "execution_count": 229,
      "metadata": {
        "id": "IWb9F5tpWyB-"
      },
      "outputs": [],
      "source": [
        "import datetime\n",
        "\n",
        "# Define log directory\n",
        "log_dir = \"logs/fit/\" + datetime.datetime.now().strftime(\"%Y%m%d-%H%M%S\")\n",
        "tensorboard_callback = tf.keras.callbacks.TensorBoard(log_dir=log_dir, histogram_freq=1)"
      ]
    },
    {
      "cell_type": "code",
      "execution_count": 230,
      "metadata": {
        "colab": {
          "base_uri": "https://localhost:8080/"
        },
        "id": "x7WhMdxAgwVH",
        "outputId": "ff013406-205d-4b43-8dae-2db5e1eda990"
      },
      "outputs": [
        {
          "name": "stdout",
          "output_type": "stream",
          "text": [
            "1141    12.173038\n",
            "1588    12.251051\n",
            "1534    11.608245\n",
            "1086    12.170451\n",
            "2225    11.727238\n",
            "          ...    \n",
            "925     12.230770\n",
            "166     11.904974\n",
            "2735    12.524421\n",
            "2711    11.867104\n",
            "247     12.371591\n",
            "Name: SalePrice, Length: 558, dtype: float64\n"
          ]
        }
      ],
      "source": [
        "y_train_log = np.log1p(y_train)\n",
        "y_test_log = np.log1p(y_test)\n",
        "print(y_test_log)"
      ]
    },
    {
      "cell_type": "code",
      "execution_count": 231,
      "metadata": {
        "colab": {
          "base_uri": "https://localhost:8080/"
        },
        "id": "Su1cLEV9fcAI",
        "outputId": "259bfc72-f87f-4495-9a86-c01e09b22779"
      },
      "outputs": [
        {
          "name": "stdout",
          "output_type": "stream",
          "text": [
            "Epoch 1/200\n"
          ]
        },
        {
          "name": "stderr",
          "output_type": "stream",
          "text": [
            "c:\\Users\\vivek\\anaconda3\\envs\\house_prediction_project\\Lib\\site-packages\\keras\\src\\layers\\core\\dense.py:93: UserWarning: Do not pass an `input_shape`/`input_dim` argument to a layer. When using Sequential models, prefer using an `Input(shape)` object as the first layer in the model instead.\n",
            "  super().__init__(activity_regularizer=activity_regularizer, **kwargs)\n"
          ]
        },
        {
          "name": "stdout",
          "output_type": "stream",
          "text": [
            "\u001b[1m56/56\u001b[0m \u001b[32m━━━━━━━━━━━━━━━━━━━━\u001b[0m\u001b[37m\u001b[0m \u001b[1m2s\u001b[0m 8ms/step - loss: 39.8121 - mean_squared_error: 39.6158 - val_loss: 3.9878 - val_mean_squared_error: 3.7912\n",
            "Epoch 2/200\n",
            "\u001b[1m56/56\u001b[0m \u001b[32m━━━━━━━━━━━━━━━━━━━━\u001b[0m\u001b[37m\u001b[0m \u001b[1m0s\u001b[0m 5ms/step - loss: 3.4025 - mean_squared_error: 3.2062 - val_loss: 6.6124 - val_mean_squared_error: 6.4177\n",
            "Epoch 3/200\n",
            "\u001b[1m56/56\u001b[0m \u001b[32m━━━━━━━━━━━━━━━━━━━━\u001b[0m\u001b[37m\u001b[0m \u001b[1m0s\u001b[0m 6ms/step - loss: 2.1881 - mean_squared_error: 1.9936 - val_loss: 7.0969 - val_mean_squared_error: 6.9043\n",
            "Epoch 4/200\n",
            "\u001b[1m56/56\u001b[0m \u001b[32m━━━━━━━━━━━━━━━━━━━━\u001b[0m\u001b[37m\u001b[0m \u001b[1m0s\u001b[0m 5ms/step - loss: 1.7150 - mean_squared_error: 1.5228 - val_loss: 4.9792 - val_mean_squared_error: 4.7891\n",
            "Epoch 5/200\n",
            "\u001b[1m56/56\u001b[0m \u001b[32m━━━━━━━━━━━━━━━━━━━━\u001b[0m\u001b[37m\u001b[0m \u001b[1m0s\u001b[0m 5ms/step - loss: 1.4665 - mean_squared_error: 1.2772 - val_loss: 4.7008 - val_mean_squared_error: 4.5140\n",
            "Epoch 6/200\n",
            "\u001b[1m56/56\u001b[0m \u001b[32m━━━━━━━━━━━━━━━━━━━━\u001b[0m\u001b[37m\u001b[0m \u001b[1m0s\u001b[0m 4ms/step - loss: 1.1446 - mean_squared_error: 0.9584 - val_loss: 5.4598 - val_mean_squared_error: 5.2756\n",
            "Epoch 7/200\n",
            "\u001b[1m56/56\u001b[0m \u001b[32m━━━━━━━━━━━━━━━━━━━━\u001b[0m\u001b[37m\u001b[0m \u001b[1m0s\u001b[0m 4ms/step - loss: 1.0437 - mean_squared_error: 0.8604 - val_loss: 3.9977 - val_mean_squared_error: 3.8168\n",
            "Epoch 8/200\n",
            "\u001b[1m56/56\u001b[0m \u001b[32m━━━━━━━━━━━━━━━━━━━━\u001b[0m\u001b[37m\u001b[0m \u001b[1m0s\u001b[0m 5ms/step - loss: 0.9195 - mean_squared_error: 0.7392 - val_loss: 3.4126 - val_mean_squared_error: 3.2345\n",
            "Epoch 9/200\n",
            "\u001b[1m56/56\u001b[0m \u001b[32m━━━━━━━━━━━━━━━━━━━━\u001b[0m\u001b[37m\u001b[0m \u001b[1m0s\u001b[0m 6ms/step - loss: 0.6826 - mean_squared_error: 0.5053 - val_loss: 3.1154 - val_mean_squared_error: 2.9403\n",
            "Epoch 10/200\n",
            "\u001b[1m56/56\u001b[0m \u001b[32m━━━━━━━━━━━━━━━━━━━━\u001b[0m\u001b[37m\u001b[0m \u001b[1m0s\u001b[0m 5ms/step - loss: 0.5641 - mean_squared_error: 0.3898 - val_loss: 3.1961 - val_mean_squared_error: 3.0242\n",
            "Epoch 11/200\n",
            "\u001b[1m56/56\u001b[0m \u001b[32m━━━━━━━━━━━━━━━━━━━━\u001b[0m\u001b[37m\u001b[0m \u001b[1m0s\u001b[0m 5ms/step - loss: 0.4438 - mean_squared_error: 0.2726 - val_loss: 1.8725 - val_mean_squared_error: 1.7037\n",
            "Epoch 12/200\n",
            "\u001b[1m56/56\u001b[0m \u001b[32m━━━━━━━━━━━━━━━━━━━━\u001b[0m\u001b[37m\u001b[0m \u001b[1m0s\u001b[0m 5ms/step - loss: 0.3677 - mean_squared_error: 0.1996 - val_loss: 0.9534 - val_mean_squared_error: 0.7875\n",
            "Epoch 13/200\n",
            "\u001b[1m56/56\u001b[0m \u001b[32m━━━━━━━━━━━━━━━━━━━━\u001b[0m\u001b[37m\u001b[0m \u001b[1m0s\u001b[0m 5ms/step - loss: 0.3063 - mean_squared_error: 0.1411 - val_loss: 0.7416 - val_mean_squared_error: 0.5785\n",
            "Epoch 14/200\n",
            "\u001b[1m56/56\u001b[0m \u001b[32m━━━━━━━━━━━━━━━━━━━━\u001b[0m\u001b[37m\u001b[0m \u001b[1m0s\u001b[0m 4ms/step - loss: 0.2536 - mean_squared_error: 0.0913 - val_loss: 0.5139 - val_mean_squared_error: 0.3536\n",
            "Epoch 15/200\n",
            "\u001b[1m56/56\u001b[0m \u001b[32m━━━━━━━━━━━━━━━━━━━━\u001b[0m\u001b[37m\u001b[0m \u001b[1m0s\u001b[0m 4ms/step - loss: 0.2353 - mean_squared_error: 0.0757 - val_loss: 0.4185 - val_mean_squared_error: 0.2609\n",
            "Epoch 16/200\n",
            "\u001b[1m56/56\u001b[0m \u001b[32m━━━━━━━━━━━━━━━━━━━━\u001b[0m\u001b[37m\u001b[0m \u001b[1m0s\u001b[0m 4ms/step - loss: 0.2150 - mean_squared_error: 0.0581 - val_loss: 0.3375 - val_mean_squared_error: 0.1825\n",
            "Epoch 17/200\n",
            "\u001b[1m56/56\u001b[0m \u001b[32m━━━━━━━━━━━━━━━━━━━━\u001b[0m\u001b[37m\u001b[0m \u001b[1m0s\u001b[0m 5ms/step - loss: 0.2089 - mean_squared_error: 0.0547 - val_loss: 0.3353 - val_mean_squared_error: 0.1830\n",
            "Epoch 18/200\n",
            "\u001b[1m56/56\u001b[0m \u001b[32m━━━━━━━━━━━━━━━━━━━━\u001b[0m\u001b[37m\u001b[0m \u001b[1m0s\u001b[0m 4ms/step - loss: 0.1955 - mean_squared_error: 0.0438 - val_loss: 0.2633 - val_mean_squared_error: 0.1134\n",
            "Epoch 19/200\n",
            "\u001b[1m56/56\u001b[0m \u001b[32m━━━━━━━━━━━━━━━━━━━━\u001b[0m\u001b[37m\u001b[0m \u001b[1m0s\u001b[0m 4ms/step - loss: 0.1922 - mean_squared_error: 0.0430 - val_loss: 0.2941 - val_mean_squared_error: 0.1467\n",
            "Epoch 20/200\n",
            "\u001b[1m56/56\u001b[0m \u001b[32m━━━━━━━━━━━━━━━━━━━━\u001b[0m\u001b[37m\u001b[0m \u001b[1m0s\u001b[0m 4ms/step - loss: 0.1922 - mean_squared_error: 0.0453 - val_loss: 0.2623 - val_mean_squared_error: 0.1173\n",
            "Epoch 21/200\n",
            "\u001b[1m56/56\u001b[0m \u001b[32m━━━━━━━━━━━━━━━━━━━━\u001b[0m\u001b[37m\u001b[0m \u001b[1m0s\u001b[0m 5ms/step - loss: 0.1820 - mean_squared_error: 0.0376 - val_loss: 0.2276 - val_mean_squared_error: 0.0850\n",
            "Epoch 22/200\n",
            "\u001b[1m56/56\u001b[0m \u001b[32m━━━━━━━━━━━━━━━━━━━━\u001b[0m\u001b[37m\u001b[0m \u001b[1m0s\u001b[0m 7ms/step - loss: 0.1764 - mean_squared_error: 0.0344 - val_loss: 0.2556 - val_mean_squared_error: 0.1155\n",
            "Epoch 23/200\n",
            "\u001b[1m56/56\u001b[0m \u001b[32m━━━━━━━━━━━━━━━━━━━━\u001b[0m\u001b[37m\u001b[0m \u001b[1m0s\u001b[0m 6ms/step - loss: 0.1710 - mean_squared_error: 0.0314 - val_loss: 0.2236 - val_mean_squared_error: 0.0859\n",
            "Epoch 24/200\n",
            "\u001b[1m56/56\u001b[0m \u001b[32m━━━━━━━━━━━━━━━━━━━━\u001b[0m\u001b[37m\u001b[0m \u001b[1m0s\u001b[0m 5ms/step - loss: 0.1660 - mean_squared_error: 0.0289 - val_loss: 0.2110 - val_mean_squared_error: 0.0756\n",
            "Epoch 25/200\n",
            "\u001b[1m56/56\u001b[0m \u001b[32m━━━━━━━━━━━━━━━━━━━━\u001b[0m\u001b[37m\u001b[0m \u001b[1m0s\u001b[0m 5ms/step - loss: 0.1648 - mean_squared_error: 0.0301 - val_loss: 0.1940 - val_mean_squared_error: 0.0608\n",
            "Epoch 26/200\n",
            "\u001b[1m56/56\u001b[0m \u001b[32m━━━━━━━━━━━━━━━━━━━━\u001b[0m\u001b[37m\u001b[0m \u001b[1m0s\u001b[0m 7ms/step - loss: 0.1627 - mean_squared_error: 0.0302 - val_loss: 0.1768 - val_mean_squared_error: 0.0460\n",
            "Epoch 27/200\n",
            "\u001b[1m56/56\u001b[0m \u001b[32m━━━━━━━━━━━━━━━━━━━━\u001b[0m\u001b[37m\u001b[0m \u001b[1m0s\u001b[0m 5ms/step - loss: 0.1593 - mean_squared_error: 0.0291 - val_loss: 0.1817 - val_mean_squared_error: 0.0533\n",
            "Epoch 28/200\n",
            "\u001b[1m56/56\u001b[0m \u001b[32m━━━━━━━━━━━━━━━━━━━━\u001b[0m\u001b[37m\u001b[0m \u001b[1m0s\u001b[0m 5ms/step - loss: 0.1597 - mean_squared_error: 0.0318 - val_loss: 0.1955 - val_mean_squared_error: 0.0694\n",
            "Epoch 29/200\n",
            "\u001b[1m56/56\u001b[0m \u001b[32m━━━━━━━━━━━━━━━━━━━━\u001b[0m\u001b[37m\u001b[0m \u001b[1m0s\u001b[0m 4ms/step - loss: 0.1499 - mean_squared_error: 0.0243 - val_loss: 0.1926 - val_mean_squared_error: 0.0687\n",
            "Epoch 30/200\n",
            "\u001b[1m56/56\u001b[0m \u001b[32m━━━━━━━━━━━━━━━━━━━━\u001b[0m\u001b[37m\u001b[0m \u001b[1m0s\u001b[0m 5ms/step - loss: 0.1484 - mean_squared_error: 0.0250 - val_loss: 0.1806 - val_mean_squared_error: 0.0589\n",
            "Epoch 31/200\n",
            "\u001b[1m56/56\u001b[0m \u001b[32m━━━━━━━━━━━━━━━━━━━━\u001b[0m\u001b[37m\u001b[0m \u001b[1m0s\u001b[0m 5ms/step - loss: 0.1510 - mean_squared_error: 0.0298 - val_loss: 0.1963 - val_mean_squared_error: 0.0768\n",
            "Epoch 32/200\n",
            "\u001b[1m56/56\u001b[0m \u001b[32m━━━━━━━━━━━━━━━━━━━━\u001b[0m\u001b[37m\u001b[0m \u001b[1m0s\u001b[0m 5ms/step - loss: 0.1420 - mean_squared_error: 0.0231 - val_loss: 0.1855 - val_mean_squared_error: 0.0683\n",
            "Epoch 33/200\n",
            "\u001b[1m56/56\u001b[0m \u001b[32m━━━━━━━━━━━━━━━━━━━━\u001b[0m\u001b[37m\u001b[0m \u001b[1m0s\u001b[0m 5ms/step - loss: 0.1388 - mean_squared_error: 0.0221 - val_loss: 0.1907 - val_mean_squared_error: 0.0757\n",
            "Epoch 34/200\n",
            "\u001b[1m56/56\u001b[0m \u001b[32m━━━━━━━━━━━━━━━━━━━━\u001b[0m\u001b[37m\u001b[0m \u001b[1m0s\u001b[0m 6ms/step - loss: 0.1408 - mean_squared_error: 0.0263 - val_loss: 0.1879 - val_mean_squared_error: 0.0750\n",
            "Epoch 35/200\n",
            "\u001b[1m56/56\u001b[0m \u001b[32m━━━━━━━━━━━━━━━━━━━━\u001b[0m\u001b[37m\u001b[0m \u001b[1m0s\u001b[0m 5ms/step - loss: 0.1349 - mean_squared_error: 0.0225 - val_loss: 0.1685 - val_mean_squared_error: 0.0577\n",
            "Epoch 36/200\n",
            "\u001b[1m56/56\u001b[0m \u001b[32m━━━━━━━━━━━━━━━━━━━━\u001b[0m\u001b[37m\u001b[0m \u001b[1m0s\u001b[0m 5ms/step - loss: 0.1329 - mean_squared_error: 0.0226 - val_loss: 0.1376 - val_mean_squared_error: 0.0289\n",
            "Epoch 37/200\n",
            "\u001b[1m56/56\u001b[0m \u001b[32m━━━━━━━━━━━━━━━━━━━━\u001b[0m\u001b[37m\u001b[0m \u001b[1m0s\u001b[0m 5ms/step - loss: 0.1320 - mean_squared_error: 0.0239 - val_loss: 0.1846 - val_mean_squared_error: 0.0782\n",
            "Epoch 38/200\n",
            "\u001b[1m56/56\u001b[0m \u001b[32m━━━━━━━━━━━━━━━━━━━━\u001b[0m\u001b[37m\u001b[0m \u001b[1m0s\u001b[0m 5ms/step - loss: 0.1256 - mean_squared_error: 0.0197 - val_loss: 0.1740 - val_mean_squared_error: 0.0696\n",
            "Epoch 39/200\n",
            "\u001b[1m56/56\u001b[0m \u001b[32m━━━━━━━━━━━━━━━━━━━━\u001b[0m\u001b[37m\u001b[0m \u001b[1m0s\u001b[0m 5ms/step - loss: 0.1245 - mean_squared_error: 0.0206 - val_loss: 0.1584 - val_mean_squared_error: 0.0561\n",
            "Epoch 40/200\n",
            "\u001b[1m56/56\u001b[0m \u001b[32m━━━━━━━━━━━━━━━━━━━━\u001b[0m\u001b[37m\u001b[0m \u001b[1m0s\u001b[0m 5ms/step - loss: 0.1233 - mean_squared_error: 0.0214 - val_loss: 0.1518 - val_mean_squared_error: 0.0515\n",
            "Epoch 41/200\n",
            "\u001b[1m56/56\u001b[0m \u001b[32m━━━━━━━━━━━━━━━━━━━━\u001b[0m\u001b[37m\u001b[0m \u001b[1m0s\u001b[0m 5ms/step - loss: 0.1163 - mean_squared_error: 0.0166 - val_loss: 0.1831 - val_mean_squared_error: 0.0850\n",
            "Epoch 42/200\n",
            "\u001b[1m56/56\u001b[0m \u001b[32m━━━━━━━━━━━━━━━━━━━━\u001b[0m\u001b[37m\u001b[0m \u001b[1m0s\u001b[0m 6ms/step - loss: 0.1157 - mean_squared_error: 0.0180 - val_loss: 0.1726 - val_mean_squared_error: 0.0766\n",
            "Epoch 43/200\n",
            "\u001b[1m56/56\u001b[0m \u001b[32m━━━━━━━━━━━━━━━━━━━━\u001b[0m\u001b[37m\u001b[0m \u001b[1m0s\u001b[0m 5ms/step - loss: 0.1160 - mean_squared_error: 0.0205 - val_loss: 0.1597 - val_mean_squared_error: 0.0656\n",
            "Epoch 44/200\n",
            "\u001b[1m56/56\u001b[0m \u001b[32m━━━━━━━━━━━━━━━━━━━━\u001b[0m\u001b[37m\u001b[0m \u001b[1m0s\u001b[0m 5ms/step - loss: 0.1134 - mean_squared_error: 0.0199 - val_loss: 0.1395 - val_mean_squared_error: 0.0475\n",
            "Epoch 45/200\n",
            "\u001b[1m56/56\u001b[0m \u001b[32m━━━━━━━━━━━━━━━━━━━━\u001b[0m\u001b[37m\u001b[0m \u001b[1m0s\u001b[0m 4ms/step - loss: 0.1109 - mean_squared_error: 0.0194 - val_loss: 0.1611 - val_mean_squared_error: 0.0711\n",
            "Epoch 46/200\n",
            "\u001b[1m56/56\u001b[0m \u001b[32m━━━━━━━━━━━━━━━━━━━━\u001b[0m\u001b[37m\u001b[0m \u001b[1m0s\u001b[0m 6ms/step - loss: 0.1139 - mean_squared_error: 0.0244 - val_loss: 0.1499 - val_mean_squared_error: 0.0619\n",
            "Epoch 47/200\n",
            "\u001b[1m56/56\u001b[0m \u001b[32m━━━━━━━━━━━━━━━━━━━━\u001b[0m\u001b[37m\u001b[0m \u001b[1m0s\u001b[0m 5ms/step - loss: 0.1065 - mean_squared_error: 0.0189 - val_loss: 0.1672 - val_mean_squared_error: 0.0811\n",
            "Epoch 48/200\n",
            "\u001b[1m56/56\u001b[0m \u001b[32m━━━━━━━━━━━━━━━━━━━━\u001b[0m\u001b[37m\u001b[0m \u001b[1m0s\u001b[0m 6ms/step - loss: 0.1061 - mean_squared_error: 0.0206 - val_loss: 0.1129 - val_mean_squared_error: 0.0288\n",
            "Epoch 49/200\n",
            "\u001b[1m56/56\u001b[0m \u001b[32m━━━━━━━━━━━━━━━━━━━━\u001b[0m\u001b[37m\u001b[0m \u001b[1m0s\u001b[0m 5ms/step - loss: 0.0997 - mean_squared_error: 0.0161 - val_loss: 0.1110 - val_mean_squared_error: 0.0287\n",
            "Epoch 50/200\n",
            "\u001b[1m56/56\u001b[0m \u001b[32m━━━━━━━━━━━━━━━━━━━━\u001b[0m\u001b[37m\u001b[0m \u001b[1m0s\u001b[0m 4ms/step - loss: 0.0979 - mean_squared_error: 0.0161 - val_loss: 0.1209 - val_mean_squared_error: 0.0406\n",
            "Epoch 51/200\n",
            "\u001b[1m56/56\u001b[0m \u001b[32m━━━━━━━━━━━━━━━━━━━━\u001b[0m\u001b[37m\u001b[0m \u001b[1m0s\u001b[0m 4ms/step - loss: 0.0951 - mean_squared_error: 0.0153 - val_loss: 0.1415 - val_mean_squared_error: 0.0631\n",
            "Epoch 52/200\n",
            "\u001b[1m56/56\u001b[0m \u001b[32m━━━━━━━━━━━━━━━━━━━━\u001b[0m\u001b[37m\u001b[0m \u001b[1m0s\u001b[0m 4ms/step - loss: 0.0925 - mean_squared_error: 0.0145 - val_loss: 0.1273 - val_mean_squared_error: 0.0507\n",
            "Epoch 53/200\n",
            "\u001b[1m56/56\u001b[0m \u001b[32m━━━━━━━━━━━━━━━━━━━━\u001b[0m\u001b[37m\u001b[0m \u001b[1m0s\u001b[0m 4ms/step - loss: 0.0950 - mean_squared_error: 0.0188 - val_loss: 0.1220 - val_mean_squared_error: 0.0472\n",
            "Epoch 54/200\n",
            "\u001b[1m56/56\u001b[0m \u001b[32m━━━━━━━━━━━━━━━━━━━━\u001b[0m\u001b[37m\u001b[0m \u001b[1m0s\u001b[0m 4ms/step - loss: 0.0871 - mean_squared_error: 0.0128 - val_loss: 0.1561 - val_mean_squared_error: 0.0831\n",
            "Epoch 55/200\n",
            "\u001b[1m56/56\u001b[0m \u001b[32m━━━━━━━━━━━━━━━━━━━━\u001b[0m\u001b[37m\u001b[0m \u001b[1m0s\u001b[0m 5ms/step - loss: 0.0962 - mean_squared_error: 0.0236 - val_loss: 0.1240 - val_mean_squared_error: 0.0527\n",
            "Epoch 56/200\n",
            "\u001b[1m56/56\u001b[0m \u001b[32m━━━━━━━━━━━━━━━━━━━━\u001b[0m\u001b[37m\u001b[0m \u001b[1m0s\u001b[0m 5ms/step - loss: 0.0876 - mean_squared_error: 0.0167 - val_loss: 0.1200 - val_mean_squared_error: 0.0504\n",
            "Epoch 57/200\n",
            "\u001b[1m56/56\u001b[0m \u001b[32m━━━━━━━━━━━━━━━━━━━━\u001b[0m\u001b[37m\u001b[0m \u001b[1m0s\u001b[0m 5ms/step - loss: 0.0853 - mean_squared_error: 0.0161 - val_loss: 0.0926 - val_mean_squared_error: 0.0246\n",
            "Epoch 58/200\n",
            "\u001b[1m56/56\u001b[0m \u001b[32m━━━━━━━━━━━━━━━━━━━━\u001b[0m\u001b[37m\u001b[0m \u001b[1m0s\u001b[0m 5ms/step - loss: 0.0825 - mean_squared_error: 0.0150 - val_loss: 0.1164 - val_mean_squared_error: 0.0501\n",
            "Epoch 59/200\n",
            "\u001b[1m56/56\u001b[0m \u001b[32m━━━━━━━━━━━━━━━━━━━━\u001b[0m\u001b[37m\u001b[0m \u001b[1m0s\u001b[0m 5ms/step - loss: 0.0810 - mean_squared_error: 0.0152 - val_loss: 0.1041 - val_mean_squared_error: 0.0394\n",
            "Epoch 60/200\n",
            "\u001b[1m56/56\u001b[0m \u001b[32m━━━━━━━━━━━━━━━━━━━━\u001b[0m\u001b[37m\u001b[0m \u001b[1m0s\u001b[0m 6ms/step - loss: 0.0773 - mean_squared_error: 0.0131 - val_loss: 0.1132 - val_mean_squared_error: 0.0502\n",
            "Epoch 61/200\n",
            "\u001b[1m56/56\u001b[0m \u001b[32m━━━━━━━━━━━━━━━━━━━━\u001b[0m\u001b[37m\u001b[0m \u001b[1m0s\u001b[0m 5ms/step - loss: 0.0739 - mean_squared_error: 0.0113 - val_loss: 0.1205 - val_mean_squared_error: 0.0592\n",
            "Epoch 62/200\n",
            "\u001b[1m56/56\u001b[0m \u001b[32m━━━━━━━━━━━━━━━━━━━━\u001b[0m\u001b[37m\u001b[0m \u001b[1m0s\u001b[0m 5ms/step - loss: 0.0751 - mean_squared_error: 0.0142 - val_loss: 0.1180 - val_mean_squared_error: 0.0582\n",
            "Epoch 63/200\n",
            "\u001b[1m56/56\u001b[0m \u001b[32m━━━━━━━━━━━━━━━━━━━━\u001b[0m\u001b[37m\u001b[0m \u001b[1m0s\u001b[0m 5ms/step - loss: 0.0731 - mean_squared_error: 0.0137 - val_loss: 0.1100 - val_mean_squared_error: 0.0517\n",
            "Epoch 64/200\n",
            "\u001b[1m56/56\u001b[0m \u001b[32m━━━━━━━━━━━━━━━━━━━━\u001b[0m\u001b[37m\u001b[0m \u001b[1m0s\u001b[0m 6ms/step - loss: 0.0719 - mean_squared_error: 0.0140 - val_loss: 0.0852 - val_mean_squared_error: 0.0284\n",
            "Epoch 65/200\n",
            "\u001b[1m56/56\u001b[0m \u001b[32m━━━━━━━━━━━━━━━━━━━━\u001b[0m\u001b[37m\u001b[0m \u001b[1m0s\u001b[0m 5ms/step - loss: 0.0701 - mean_squared_error: 0.0137 - val_loss: 0.0814 - val_mean_squared_error: 0.0261\n",
            "Epoch 66/200\n",
            "\u001b[1m56/56\u001b[0m \u001b[32m━━━━━━━━━━━━━━━━━━━━\u001b[0m\u001b[37m\u001b[0m \u001b[1m0s\u001b[0m 5ms/step - loss: 0.0710 - mean_squared_error: 0.0161 - val_loss: 0.0971 - val_mean_squared_error: 0.0431\n",
            "Epoch 67/200\n",
            "\u001b[1m56/56\u001b[0m \u001b[32m━━━━━━━━━━━━━━━━━━━━\u001b[0m\u001b[37m\u001b[0m \u001b[1m0s\u001b[0m 5ms/step - loss: 0.0680 - mean_squared_error: 0.0144 - val_loss: 0.0836 - val_mean_squared_error: 0.0311\n",
            "Epoch 68/200\n",
            "\u001b[1m56/56\u001b[0m \u001b[32m━━━━━━━━━━━━━━━━━━━━\u001b[0m\u001b[37m\u001b[0m \u001b[1m0s\u001b[0m 5ms/step - loss: 0.0626 - mean_squared_error: 0.0105 - val_loss: 0.0806 - val_mean_squared_error: 0.0295\n",
            "Epoch 69/200\n",
            "\u001b[1m56/56\u001b[0m \u001b[32m━━━━━━━━━━━━━━━━━━━━\u001b[0m\u001b[37m\u001b[0m \u001b[1m0s\u001b[0m 5ms/step - loss: 0.0620 - mean_squared_error: 0.0112 - val_loss: 0.0819 - val_mean_squared_error: 0.0321\n",
            "Epoch 70/200\n",
            "\u001b[1m56/56\u001b[0m \u001b[32m━━━━━━━━━━━━━━━━━━━━\u001b[0m\u001b[37m\u001b[0m \u001b[1m0s\u001b[0m 5ms/step - loss: 0.0605 - mean_squared_error: 0.0109 - val_loss: 0.0812 - val_mean_squared_error: 0.0327\n",
            "Epoch 71/200\n",
            "\u001b[1m56/56\u001b[0m \u001b[32m━━━━━━━━━━━━━━━━━━━━\u001b[0m\u001b[37m\u001b[0m \u001b[1m0s\u001b[0m 5ms/step - loss: 0.0588 - mean_squared_error: 0.0107 - val_loss: 0.0779 - val_mean_squared_error: 0.0307\n",
            "Epoch 72/200\n",
            "\u001b[1m56/56\u001b[0m \u001b[32m━━━━━━━━━━━━━━━━━━━━\u001b[0m\u001b[37m\u001b[0m \u001b[1m0s\u001b[0m 5ms/step - loss: 0.0587 - mean_squared_error: 0.0118 - val_loss: 0.0762 - val_mean_squared_error: 0.0303\n",
            "Epoch 73/200\n",
            "\u001b[1m56/56\u001b[0m \u001b[32m━━━━━━━━━━━━━━━━━━━━\u001b[0m\u001b[37m\u001b[0m \u001b[1m0s\u001b[0m 6ms/step - loss: 0.0579 - mean_squared_error: 0.0122 - val_loss: 0.0668 - val_mean_squared_error: 0.0220\n",
            "Epoch 74/200\n",
            "\u001b[1m56/56\u001b[0m \u001b[32m━━━━━━━━━━━━━━━━━━━━\u001b[0m\u001b[37m\u001b[0m \u001b[1m0s\u001b[0m 5ms/step - loss: 0.0562 - mean_squared_error: 0.0117 - val_loss: 0.0785 - val_mean_squared_error: 0.0349\n",
            "Epoch 75/200\n",
            "\u001b[1m56/56\u001b[0m \u001b[32m━━━━━━━━━━━━━━━━━━━━\u001b[0m\u001b[37m\u001b[0m \u001b[1m0s\u001b[0m 5ms/step - loss: 0.0564 - mean_squared_error: 0.0131 - val_loss: 0.0702 - val_mean_squared_error: 0.0276\n",
            "Epoch 76/200\n",
            "\u001b[1m56/56\u001b[0m \u001b[32m━━━━━━━━━━━━━━━━━━━━\u001b[0m\u001b[37m\u001b[0m \u001b[1m0s\u001b[0m 5ms/step - loss: 0.0567 - mean_squared_error: 0.0145 - val_loss: 0.0971 - val_mean_squared_error: 0.0557\n",
            "Epoch 77/200\n",
            "\u001b[1m56/56\u001b[0m \u001b[32m━━━━━━━━━━━━━━━━━━━━\u001b[0m\u001b[37m\u001b[0m \u001b[1m0s\u001b[0m 6ms/step - loss: 0.0526 - mean_squared_error: 0.0115 - val_loss: 0.0798 - val_mean_squared_error: 0.0395\n",
            "Epoch 78/200\n",
            "\u001b[1m56/56\u001b[0m \u001b[32m━━━━━━━━━━━━━━━━━━━━\u001b[0m\u001b[37m\u001b[0m \u001b[1m0s\u001b[0m 5ms/step - loss: 0.0492 - mean_squared_error: 0.0091 - val_loss: 0.0787 - val_mean_squared_error: 0.0395\n",
            "Epoch 79/200\n",
            "\u001b[1m56/56\u001b[0m \u001b[32m━━━━━━━━━━━━━━━━━━━━\u001b[0m\u001b[37m\u001b[0m \u001b[1m0s\u001b[0m 5ms/step - loss: 0.0483 - mean_squared_error: 0.0093 - val_loss: 0.0834 - val_mean_squared_error: 0.0453\n",
            "Epoch 80/200\n",
            "\u001b[1m56/56\u001b[0m \u001b[32m━━━━━━━━━━━━━━━━━━━━\u001b[0m\u001b[37m\u001b[0m \u001b[1m0s\u001b[0m 5ms/step - loss: 0.0493 - mean_squared_error: 0.0114 - val_loss: 0.0712 - val_mean_squared_error: 0.0338\n",
            "Epoch 81/200\n",
            "\u001b[1m56/56\u001b[0m \u001b[32m━━━━━━━━━━━━━━━━━━━━\u001b[0m\u001b[37m\u001b[0m \u001b[1m0s\u001b[0m 5ms/step - loss: 0.0512 - mean_squared_error: 0.0142 - val_loss: 0.0589 - val_mean_squared_error: 0.0225\n",
            "Epoch 82/200\n",
            "\u001b[1m56/56\u001b[0m \u001b[32m━━━━━━━━━━━━━━━━━━━━\u001b[0m\u001b[37m\u001b[0m \u001b[1m0s\u001b[0m 5ms/step - loss: 0.0489 - mean_squared_error: 0.0127 - val_loss: 0.0602 - val_mean_squared_error: 0.0246\n",
            "Epoch 83/200\n",
            "\u001b[1m56/56\u001b[0m \u001b[32m━━━━━━━━━━━━━━━━━━━━\u001b[0m\u001b[37m\u001b[0m \u001b[1m0s\u001b[0m 5ms/step - loss: 0.0489 - mean_squared_error: 0.0135 - val_loss: 0.0701 - val_mean_squared_error: 0.0352\n",
            "Epoch 84/200\n",
            "\u001b[1m56/56\u001b[0m \u001b[32m━━━━━━━━━━━━━━━━━━━━\u001b[0m\u001b[37m\u001b[0m \u001b[1m0s\u001b[0m 5ms/step - loss: 0.0462 - mean_squared_error: 0.0117 - val_loss: 0.0602 - val_mean_squared_error: 0.0264\n",
            "Epoch 85/200\n",
            "\u001b[1m56/56\u001b[0m \u001b[32m━━━━━━━━━━━━━━━━━━━━\u001b[0m\u001b[37m\u001b[0m \u001b[1m0s\u001b[0m 5ms/step - loss: 0.0456 - mean_squared_error: 0.0120 - val_loss: 0.0530 - val_mean_squared_error: 0.0200\n",
            "Epoch 86/200\n",
            "\u001b[1m56/56\u001b[0m \u001b[32m━━━━━━━━━━━━━━━━━━━━\u001b[0m\u001b[37m\u001b[0m \u001b[1m0s\u001b[0m 5ms/step - loss: 0.0480 - mean_squared_error: 0.0151 - val_loss: 0.0655 - val_mean_squared_error: 0.0330\n",
            "Epoch 87/200\n",
            "\u001b[1m56/56\u001b[0m \u001b[32m━━━━━━━━━━━━━━━━━━━━\u001b[0m\u001b[37m\u001b[0m \u001b[1m0s\u001b[0m 5ms/step - loss: 0.0456 - mean_squared_error: 0.0134 - val_loss: 0.0648 - val_mean_squared_error: 0.0331\n",
            "Epoch 88/200\n",
            "\u001b[1m56/56\u001b[0m \u001b[32m━━━━━━━━━━━━━━━━━━━━\u001b[0m\u001b[37m\u001b[0m \u001b[1m0s\u001b[0m 5ms/step - loss: 0.0453 - mean_squared_error: 0.0137 - val_loss: 0.0612 - val_mean_squared_error: 0.0300\n",
            "Epoch 89/200\n",
            "\u001b[1m56/56\u001b[0m \u001b[32m━━━━━━━━━━━━━━━━━━━━\u001b[0m\u001b[37m\u001b[0m \u001b[1m0s\u001b[0m 5ms/step - loss: 0.0413 - mean_squared_error: 0.0104 - val_loss: 0.0671 - val_mean_squared_error: 0.0370\n",
            "Epoch 90/200\n",
            "\u001b[1m56/56\u001b[0m \u001b[32m━━━━━━━━━━━━━━━━━━━━\u001b[0m\u001b[37m\u001b[0m \u001b[1m0s\u001b[0m 5ms/step - loss: 0.0452 - mean_squared_error: 0.0152 - val_loss: 0.0549 - val_mean_squared_error: 0.0253\n",
            "Epoch 91/200\n",
            "\u001b[1m56/56\u001b[0m \u001b[32m━━━━━━━━━━━━━━━━━━━━\u001b[0m\u001b[37m\u001b[0m \u001b[1m0s\u001b[0m 6ms/step - loss: 0.0401 - mean_squared_error: 0.0106 - val_loss: 0.0530 - val_mean_squared_error: 0.0241\n",
            "Epoch 92/200\n",
            "\u001b[1m56/56\u001b[0m \u001b[32m━━━━━━━━━━━━━━━━━━━━\u001b[0m\u001b[37m\u001b[0m \u001b[1m0s\u001b[0m 5ms/step - loss: 0.0395 - mean_squared_error: 0.0108 - val_loss: 0.0481 - val_mean_squared_error: 0.0199\n",
            "Epoch 93/200\n",
            "\u001b[1m56/56\u001b[0m \u001b[32m━━━━━━━━━━━━━━━━━━━━\u001b[0m\u001b[37m\u001b[0m \u001b[1m0s\u001b[0m 5ms/step - loss: 0.0399 - mean_squared_error: 0.0120 - val_loss: 0.0560 - val_mean_squared_error: 0.0287\n",
            "Epoch 94/200\n",
            "\u001b[1m56/56\u001b[0m \u001b[32m━━━━━━━━━━━━━━━━━━━━\u001b[0m\u001b[37m\u001b[0m \u001b[1m0s\u001b[0m 5ms/step - loss: 0.0451 - mean_squared_error: 0.0179 - val_loss: 0.0553 - val_mean_squared_error: 0.0283\n",
            "Epoch 95/200\n",
            "\u001b[1m56/56\u001b[0m \u001b[32m━━━━━━━━━━━━━━━━━━━━\u001b[0m\u001b[37m\u001b[0m \u001b[1m0s\u001b[0m 6ms/step - loss: 0.0372 - mean_squared_error: 0.0103 - val_loss: 0.0564 - val_mean_squared_error: 0.0300\n",
            "Epoch 96/200\n",
            "\u001b[1m56/56\u001b[0m \u001b[32m━━━━━━━━━━━━━━━━━━━━\u001b[0m\u001b[37m\u001b[0m \u001b[1m0s\u001b[0m 5ms/step - loss: 0.0384 - mean_squared_error: 0.0121 - val_loss: 0.0586 - val_mean_squared_error: 0.0328\n",
            "Epoch 97/200\n",
            "\u001b[1m56/56\u001b[0m \u001b[32m━━━━━━━━━━━━━━━━━━━━\u001b[0m\u001b[37m\u001b[0m \u001b[1m0s\u001b[0m 5ms/step - loss: 0.0382 - mean_squared_error: 0.0125 - val_loss: 0.0497 - val_mean_squared_error: 0.0245\n",
            "Epoch 98/200\n",
            "\u001b[1m56/56\u001b[0m \u001b[32m━━━━━━━━━━━━━━━━━━━━\u001b[0m\u001b[37m\u001b[0m \u001b[1m0s\u001b[0m 5ms/step - loss: 0.0369 - mean_squared_error: 0.0118 - val_loss: 0.0445 - val_mean_squared_error: 0.0196\n",
            "Epoch 99/200\n",
            "\u001b[1m56/56\u001b[0m \u001b[32m━━━━━━━━━━━━━━━━━━━━\u001b[0m\u001b[37m\u001b[0m \u001b[1m0s\u001b[0m 5ms/step - loss: 0.0402 - mean_squared_error: 0.0156 - val_loss: 0.0507 - val_mean_squared_error: 0.0263\n",
            "Epoch 100/200\n",
            "\u001b[1m56/56\u001b[0m \u001b[32m━━━━━━━━━━━━━━━━━━━━\u001b[0m\u001b[37m\u001b[0m \u001b[1m0s\u001b[0m 5ms/step - loss: 0.0376 - mean_squared_error: 0.0133 - val_loss: 0.0564 - val_mean_squared_error: 0.0324\n",
            "Epoch 101/200\n",
            "\u001b[1m56/56\u001b[0m \u001b[32m━━━━━━━━━━━━━━━━━━━━\u001b[0m\u001b[37m\u001b[0m \u001b[1m0s\u001b[0m 5ms/step - loss: 0.0437 - mean_squared_error: 0.0198 - val_loss: 0.0641 - val_mean_squared_error: 0.0406\n",
            "Epoch 102/200\n",
            "\u001b[1m56/56\u001b[0m \u001b[32m━━━━━━━━━━━━━━━━━━━━\u001b[0m\u001b[37m\u001b[0m \u001b[1m0s\u001b[0m 5ms/step - loss: 0.0412 - mean_squared_error: 0.0178 - val_loss: 0.0573 - val_mean_squared_error: 0.0343\n",
            "Epoch 103/200\n",
            "\u001b[1m56/56\u001b[0m \u001b[32m━━━━━━━━━━━━━━━━━━━━\u001b[0m\u001b[37m\u001b[0m \u001b[1m0s\u001b[0m 5ms/step - loss: 0.0378 - mean_squared_error: 0.0149 - val_loss: 0.0694 - val_mean_squared_error: 0.0468\n",
            "Epoch 104/200\n",
            "\u001b[1m56/56\u001b[0m \u001b[32m━━━━━━━━━━━━━━━━━━━━\u001b[0m\u001b[37m\u001b[0m \u001b[1m0s\u001b[0m 5ms/step - loss: 0.0485 - mean_squared_error: 0.0258 - val_loss: 0.0485 - val_mean_squared_error: 0.0255\n",
            "Epoch 105/200\n",
            "\u001b[1m56/56\u001b[0m \u001b[32m━━━━━━━━━━━━━━━━━━━━\u001b[0m\u001b[37m\u001b[0m \u001b[1m0s\u001b[0m 5ms/step - loss: 0.0385 - mean_squared_error: 0.0156 - val_loss: 0.0482 - val_mean_squared_error: 0.0257\n",
            "Epoch 106/200\n",
            "\u001b[1m56/56\u001b[0m \u001b[32m━━━━━━━━━━━━━━━━━━━━\u001b[0m\u001b[37m\u001b[0m \u001b[1m0s\u001b[0m 5ms/step - loss: 0.0368 - mean_squared_error: 0.0141 - val_loss: 0.0458 - val_mean_squared_error: 0.0233\n",
            "Epoch 107/200\n",
            "\u001b[1m56/56\u001b[0m \u001b[32m━━━━━━━━━━━━━━━━━━━━\u001b[0m\u001b[37m\u001b[0m \u001b[1m0s\u001b[0m 5ms/step - loss: 0.0366 - mean_squared_error: 0.0144 - val_loss: 0.0558 - val_mean_squared_error: 0.0340\n",
            "Epoch 108/200\n",
            "\u001b[1m56/56\u001b[0m \u001b[32m━━━━━━━━━━━━━━━━━━━━\u001b[0m\u001b[37m\u001b[0m \u001b[1m0s\u001b[0m 5ms/step - loss: 0.0351 - mean_squared_error: 0.0134 - val_loss: 0.0646 - val_mean_squared_error: 0.0435\n",
            "Epoch 109/200\n",
            "\u001b[1m56/56\u001b[0m \u001b[32m━━━━━━━━━━━━━━━━━━━━\u001b[0m\u001b[37m\u001b[0m \u001b[1m0s\u001b[0m 5ms/step - loss: 0.0399 - mean_squared_error: 0.0187 - val_loss: 0.0600 - val_mean_squared_error: 0.0384\n",
            "Epoch 110/200\n",
            "\u001b[1m56/56\u001b[0m \u001b[32m━━━━━━━━━━━━━━━━━━━━\u001b[0m\u001b[37m\u001b[0m \u001b[1m0s\u001b[0m 5ms/step - loss: 0.0493 - mean_squared_error: 0.0279 - val_loss: 0.0561 - val_mean_squared_error: 0.0350\n",
            "Epoch 111/200\n",
            "\u001b[1m56/56\u001b[0m \u001b[32m━━━━━━━━━━━━━━━━━━━━\u001b[0m\u001b[37m\u001b[0m \u001b[1m0s\u001b[0m 7ms/step - loss: 0.0369 - mean_squared_error: 0.0159 - val_loss: 0.0491 - val_mean_squared_error: 0.0283\n",
            "Epoch 112/200\n",
            "\u001b[1m56/56\u001b[0m \u001b[32m━━━━━━━━━━━━━━━━━━━━\u001b[0m\u001b[37m\u001b[0m \u001b[1m0s\u001b[0m 6ms/step - loss: 0.0429 - mean_squared_error: 0.0221 - val_loss: 0.0469 - val_mean_squared_error: 0.0259\n",
            "Epoch 113/200\n",
            "\u001b[1m56/56\u001b[0m \u001b[32m━━━━━━━━━━━━━━━━━━━━\u001b[0m\u001b[37m\u001b[0m \u001b[1m0s\u001b[0m 5ms/step - loss: 0.0435 - mean_squared_error: 0.0226 - val_loss: 0.0502 - val_mean_squared_error: 0.0293\n"
          ]
        }
      ],
      "source": [
        "import pandas as pd\n",
        "import numpy as np\n",
        "from sklearn.model_selection import train_test_split\n",
        "from sklearn.preprocessing import StandardScaler\n",
        "import tensorflow as tf\n",
        "from tensorflow.keras import layers, models, regularizers\n",
        "from tensorflow.keras.callbacks import EarlyStopping\n",
        "import matplotlib.pyplot as plt\n",
        "model = models.Sequential([\n",
        "    layers.Dense(128, activation='relu', kernel_regularizer=regularizers.l2(0.001), input_shape=(X_train_scaled.shape[1],)),\n",
        "    layers.Dense(128, activation='relu'),\n",
        "    #tf.keras.layers.BatchNormalization(),\n",
        "    layers.Dropout(0.2),\n",
        "    layers.Dense(64, activation='relu'),\n",
        "    #tf.keras.layers.BatchNormalization(),\n",
        "    layers.Dropout(0.2),\n",
        "    layers.Dense(64, activation='relu', kernel_regularizer=regularizers.l2(0.001)),\n",
        "    #tf.keras.layers.BatchNormalization(),\n",
        "    layers.Dense(32, activation='relu', kernel_regularizer=regularizers.l2(0.001)),\n",
        "    #tf.keras.layers.BatchNormalization(),\n",
        "    layers.Dense(1)  # Output layer for regression\n",
        "])\n",
        "\n",
        "# -----------------------------\n",
        "# 6. Compile Model\n",
        "# -----------------------------\n",
        "model.compile(optimizer=tf.keras.optimizers.Adam(learning_rate=0.003,weight_decay=.001), loss='mse', metrics=['mean_squared_error'])\n",
        "\n",
        "early_stop = EarlyStopping(monitor='val_loss', patience=15, restore_best_weights=True)\n",
        "\n",
        "# -----------------------------\n",
        "# 8. Train the Model\n",
        "# -----------------------------\n",
        "history = model.fit(X_train_scaled, y_train_log,\n",
        "                    validation_split=0.2,\n",
        "                    epochs=200,\n",
        "                    batch_size=32,\n",
        "                    callbacks=[early_stop,tensorboard_callback],\n",
        "                    verbose=1)\n",
        "\n"
      ]
    },
    {
      "cell_type": "code",
      "execution_count": 232,
      "metadata": {
        "colab": {
          "base_uri": "https://localhost:8080/"
        },
        "id": "u7bt4OMhjEGb",
        "outputId": "bb829cd9-c755-42d4-a07b-c017257fd743"
      },
      "outputs": [
        {
          "name": "stdout",
          "output_type": "stream",
          "text": [
            "\u001b[1m18/18\u001b[0m \u001b[32m━━━━━━━━━━━━━━━━━━━━\u001b[0m\u001b[37m\u001b[0m \u001b[1m0s\u001b[0m 3ms/step - loss: 0.0467 - mean_squared_error: 0.0218 \n",
            "Test MAE (log-scale): 0.02\n",
            "\u001b[1m18/18\u001b[0m \u001b[32m━━━━━━━━━━━━━━━━━━━━\u001b[0m\u001b[37m\u001b[0m \u001b[1m0s\u001b[0m 4ms/step\n"
          ]
        }
      ],
      "source": [
        "test_loss, test_mae = model.evaluate(X_test_scaled, y_test_log)\n",
        "print(f\"Test MAE (log-scale): {test_mae:.2f}\")\n",
        "\n",
        "# -----------------------------\n",
        "# 10. Predict and Inverse Transform\n",
        "# -----------------------------\n",
        "y_pred_log = model.predict(X_test_scaled)\n",
        "y_pred = np.expm1(y_pred_log)\n",
        "y_true = np.expm1(y_test_log)"
      ]
    },
    {
      "cell_type": "code",
      "execution_count": 233,
      "metadata": {
        "colab": {
          "base_uri": "https://localhost:8080/"
        },
        "id": "gw-E6KlOjTiS",
        "outputId": "2ff93a05-db30-44c9-c427-4b87302fd5f7"
      },
      "outputs": [
        {
          "name": "stdout",
          "output_type": "stream",
          "text": [
            "\u001b[1m18/18\u001b[0m \u001b[32m━━━━━━━━━━━━━━━━━━━━\u001b[0m\u001b[37m\u001b[0m \u001b[1m0s\u001b[0m 3ms/step - loss: 0.0467 - mean_squared_error: 0.0218 \n",
            "Test MAE (log-scale): 0.02\n",
            "\u001b[1m18/18\u001b[0m \u001b[32m━━━━━━━━━━━━━━━━━━━━\u001b[0m\u001b[37m\u001b[0m \u001b[1m0s\u001b[0m 3ms/step \n",
            "       y_pred         y_true\n",
            "0    193500.0  222810.671875\n",
            "1    209200.0  206080.640625\n",
            "2    110000.0  141267.343750\n",
            "3    193000.0  190998.765625\n",
            "4    123900.0  131703.218750\n",
            "..        ...            ...\n",
            "553  205000.0  198252.890625\n",
            "554  148000.0  158520.156250\n",
            "555  274970.0  199203.343750\n",
            "556  142500.0  130096.085938\n",
            "557  236000.0  228916.046875\n",
            "\n",
            "[558 rows x 2 columns]\n",
            "Final MSE: 481432677.83\n",
            "Final RMSE: 21941.57\n",
            "Final MAE: 15362.06\n"
          ]
        }
      ],
      "source": [
        "\n",
        "# -----------------------------\n",
        "# 9. Evaluate on Test Set\n",
        "# -----------------------------\n",
        "test_loss, test_mae = model.evaluate(X_test_scaled, y_test_log)\n",
        "print(f\"Test MAE (log-scale): {test_mae:.2f}\")\n",
        "\n",
        "# -----------------------------\n",
        "# 10. Predict and Inverse Transform\n",
        "# -----------------------------\n",
        "y_pred_log = model.predict(X_test_scaled)\n",
        "y_pred = np.expm1(y_pred_log)\n",
        "y_true = np.expm1(y_test_log)\n",
        "y_pred1 = (pd.Series(y_pred.flatten()))\n",
        "#y_true1 = y_true.flatten()\n",
        "#print(y_pred,y_true)\n",
        "#y_P=np.reshape(np.array(y_pred),(-1,1))\n",
        "#print(y_P)\n",
        "temp=pd.DataFrame({\"y_pred\":np.array(y_true),\"y_true\":np.array(y_pred1)})\n",
        "print(temp)\n",
        "#-----------------------------\n",
        "#11. #Final Evaluation on Original Scale\n",
        "#-----------------------------\n",
        "from sklearn.metrics import mean_absolute_error, mean_squared_error\n",
        "\n",
        "mse_final = mean_squared_error(y_true, y_pred1)\n",
        "rmse_final = np.sqrt(mean_squared_error(y_true, y_pred1))\n",
        "mae_final = mean_absolute_error(y_true, y_pred1)\n",
        "print(f\"Final MSE: {mse_final:.2f}\")\n",
        "print(f\"Final RMSE: {rmse_final:.2f}\")\n",
        "print(f\"Final MAE: {mae_final:.2f}\")\n",
        "\n",
        "# -----------------------------\n",
        "# 12. Plot Training History\n",
        "# -----------------------------\n",
        "# plt.plot(history.history['mse'], label='Train MSE')\n",
        "# plt.plot(history.history['val_mse'], label='Val MSE')\n",
        "# plt.xlabel('Epochs')\n",
        "# plt.ylabel('MSE (log scale)')\n",
        "# plt.title('Training and Validation MSE')\n",
        "# plt.legend()\n",
        "# plt.grid(True)\n",
        "# plt.show()\n"
      ]
    },
    {
      "cell_type": "code",
      "execution_count": 234,
      "metadata": {
        "colab": {
          "base_uri": "https://localhost:8080/",
          "height": 607
        },
        "id": "B8R5ChmNtWYP",
        "outputId": "a59ef576-27af-4d15-9c7a-d94c7fbd790a"
      },
      "outputs": [
        {
          "data": {
            "image/png": "[encoded data removed]",
            "text/plain": [
              "<Figure size 1000x600 with 1 Axes>"
            ]
          },
          "metadata": {},
          "output_type": "display_data"
        }
      ],
      "source": [
        "indices = np.arange(len(y_true[100:200]))\n",
        "\n",
        "# Width of bars\n",
        "bar_width = 0.35\n",
        "\n",
        "# Create the plot\n",
        "plt.figure(figsize=(10, 6))\n",
        "plt.bar(indices, y_true[100:200], width=bar_width, label='y_true', color='blue', alpha=0.7)\n",
        "plt.bar(indices + bar_width, y_pred1[100:200], width=bar_width, label='y_pred1', color='orange', alpha=0.7)\n",
        "\n",
        "# Labels and formatting\n",
        "plt.xlabel('Data Point Index')\n",
        "plt.ylabel('Value')\n",
        "plt.title('Comparison of y_true and y_pred1')\n",
        "plt.xticks(indices + bar_width / 2, indices)\n",
        "plt.legend()\n",
        "plt.grid(axis='y', linestyle='--', alpha=0.6)\n",
        "\n",
        "# Show the plot\n",
        "plt.tight_layout()\n",
        "plt.show()"
      ]
    },
    {
      "cell_type": "code",
      "execution_count": 235,
      "metadata": {
        "id": "pyJxgOg1sZkD"
      },
      "outputs": [],
      "source": [
        "model.save('house_price.keras')"
      ]
    },
    {
      "cell_type": "code",
      "execution_count": null,
      "metadata": {
        "id": "75CCxZo1KiNo"
      },
      "outputs": [],
      "source": []
    }
  ],
  "metadata": {
    "colab": {
      "provenance": []
    },
    "kernelspec": {
      "display_name": "house_prediction_project",
      "language": "python",
      "name": "python3"
    },
    "language_info": {
      "codemirror_mode": {
        "name": "ipython",
        "version": 3
      },
      "file_extension": ".py",
      "mimetype": "text/x-python",
      "name": "python",
      "nbconvert_exporter": "python",
      "pygments_lexer": "ipython3",
      "version": "3.11.11"
    }
  },
  "nbformat": 4,
  "nbformat_minor": 0
}
